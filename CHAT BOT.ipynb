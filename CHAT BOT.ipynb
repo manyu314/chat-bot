{
 "cells": [
  {
   "cell_type": "code",
   "execution_count": 1,
   "metadata": {},
   "outputs": [],
   "source": [
    "import pickle\n",
    "import numpy as np"
   ]
  },
  {
   "cell_type": "code",
   "execution_count": 6,
   "metadata": {},
   "outputs": [],
   "source": [
    "with open('UPDATED_NLP_COURSE\\\\06-Deep-Learning\\\\train_qa.txt','rb') as f:\n",
    "    train_data = pickle.load(f)"
   ]
  },
  {
   "cell_type": "code",
   "execution_count": 5,
   "metadata": {},
   "outputs": [],
   "source": [
    "with open('UPDATED_NLP_COURSE\\\\06-Deep-Learning\\\\test_qa.txt','rb') as f:\n",
    "    test_data = pickle.load(f)"
   ]
  },
  {
   "cell_type": "code",
   "execution_count": 7,
   "metadata": {},
   "outputs": [
    {
     "data": {
      "text/plain": [
       "list"
      ]
     },
     "execution_count": 7,
     "metadata": {},
     "output_type": "execute_result"
    }
   ],
   "source": [
    "type(train_data)"
   ]
  },
  {
   "cell_type": "code",
   "execution_count": 8,
   "metadata": {},
   "outputs": [
    {
     "data": {
      "text/plain": [
       "list"
      ]
     },
     "execution_count": 8,
     "metadata": {},
     "output_type": "execute_result"
    }
   ],
   "source": [
    "type(test_data)"
   ]
  },
  {
   "cell_type": "code",
   "execution_count": 9,
   "metadata": {},
   "outputs": [
    {
     "data": {
      "text/plain": [
       "10000"
      ]
     },
     "execution_count": 9,
     "metadata": {},
     "output_type": "execute_result"
    }
   ],
   "source": [
    "len(train_data)"
   ]
  },
  {
   "cell_type": "code",
   "execution_count": 10,
   "metadata": {},
   "outputs": [
    {
     "data": {
      "text/plain": [
       "1000"
      ]
     },
     "execution_count": 10,
     "metadata": {},
     "output_type": "execute_result"
    }
   ],
   "source": [
    "len(test_data)"
   ]
  },
  {
   "cell_type": "code",
   "execution_count": 11,
   "metadata": {},
   "outputs": [
    {
     "data": {
      "text/plain": [
       "(['Mary',\n",
       "  'moved',\n",
       "  'to',\n",
       "  'the',\n",
       "  'bathroom',\n",
       "  '.',\n",
       "  'Sandra',\n",
       "  'journeyed',\n",
       "  'to',\n",
       "  'the',\n",
       "  'bedroom',\n",
       "  '.',\n",
       "  'Mary',\n",
       "  'went',\n",
       "  'back',\n",
       "  'to',\n",
       "  'the',\n",
       "  'bedroom',\n",
       "  '.',\n",
       "  'Daniel',\n",
       "  'went',\n",
       "  'back',\n",
       "  'to',\n",
       "  'the',\n",
       "  'hallway',\n",
       "  '.'],\n",
       " ['Is', 'Daniel', 'in', 'the', 'bathroom', '?'],\n",
       " 'no')"
      ]
     },
     "execution_count": 11,
     "metadata": {},
     "output_type": "execute_result"
    }
   ],
   "source": [
    "train_data[1]"
   ]
  },
  {
   "cell_type": "code",
   "execution_count": 12,
   "metadata": {},
   "outputs": [],
   "source": [
    "# Setting the vocablary containing every word from train and test data"
   ]
  },
  {
   "cell_type": "code",
   "execution_count": 13,
   "metadata": {},
   "outputs": [],
   "source": [
    "all_data = train_data+test_data"
   ]
  },
  {
   "cell_type": "code",
   "execution_count": 15,
   "metadata": {},
   "outputs": [],
   "source": [
    "vocab = set()\n",
    "\n",
    "for story,ques,ans in all_data:\n",
    "    vocab = vocab.union(set(story))\n",
    "    vocab = vocab.union(set(ques))\n",
    "    \n",
    "vocab.add('no')\n",
    "vocab.add('yes')"
   ]
  },
  {
   "cell_type": "code",
   "execution_count": 16,
   "metadata": {},
   "outputs": [
    {
     "data": {
      "text/plain": [
       "{'.',\n",
       " '?',\n",
       " 'Daniel',\n",
       " 'Is',\n",
       " 'John',\n",
       " 'Mary',\n",
       " 'Sandra',\n",
       " 'apple',\n",
       " 'back',\n",
       " 'bathroom',\n",
       " 'bedroom',\n",
       " 'discarded',\n",
       " 'down',\n",
       " 'dropped',\n",
       " 'football',\n",
       " 'garden',\n",
       " 'got',\n",
       " 'grabbed',\n",
       " 'hallway',\n",
       " 'in',\n",
       " 'journeyed',\n",
       " 'kitchen',\n",
       " 'left',\n",
       " 'milk',\n",
       " 'moved',\n",
       " 'no',\n",
       " 'office',\n",
       " 'picked',\n",
       " 'put',\n",
       " 'the',\n",
       " 'there',\n",
       " 'to',\n",
       " 'took',\n",
       " 'travelled',\n",
       " 'up',\n",
       " 'went',\n",
       " 'yes'}"
      ]
     },
     "execution_count": 16,
     "metadata": {},
     "output_type": "execute_result"
    }
   ],
   "source": [
    "vocab"
   ]
  },
  {
   "cell_type": "code",
   "execution_count": 17,
   "metadata": {},
   "outputs": [],
   "source": [
    "vocab_len = len(vocab)+1"
   ]
  },
  {
   "cell_type": "code",
   "execution_count": 18,
   "metadata": {},
   "outputs": [],
   "source": [
    "# Longest story\n",
    "all_story_len = [len(data[0]) for data in all_data] # all_data is a tuple...we are taking 1st element of that tuple\n",
    "# i.e question and saving the length of the question"
   ]
  },
  {
   "cell_type": "code",
   "execution_count": 21,
   "metadata": {},
   "outputs": [
    {
     "data": {
      "text/plain": [
       "[12, 26, 39, 52, 64]"
      ]
     },
     "execution_count": 21,
     "metadata": {},
     "output_type": "execute_result"
    }
   ],
   "source": [
    "all_story_len[:5] # length of the first five question"
   ]
  },
  {
   "cell_type": "code",
   "execution_count": 25,
   "metadata": {},
   "outputs": [
    {
     "data": {
      "text/plain": [
       "156"
      ]
     },
     "execution_count": 25,
     "metadata": {},
     "output_type": "execute_result"
    }
   ],
   "source": [
    "max_story_len = max(all_story_len)\n",
    "\n",
    "max_story_len"
   ]
  },
  {
   "cell_type": "code",
   "execution_count": 23,
   "metadata": {},
   "outputs": [
    {
     "data": {
      "text/plain": [
       "[6, 6, 6, 6, 6]"
      ]
     },
     "execution_count": 23,
     "metadata": {},
     "output_type": "execute_result"
    }
   ],
   "source": [
    "all_ques_len = [len(data[1]) for data in all_data]\n",
    "\n",
    "all_ques_len[:5]"
   ]
  },
  {
   "cell_type": "code",
   "execution_count": 26,
   "metadata": {},
   "outputs": [
    {
     "data": {
      "text/plain": [
       "6"
      ]
     },
     "execution_count": 26,
     "metadata": {},
     "output_type": "execute_result"
    }
   ],
   "source": [
    "max_ques_len = max(all_ques_len)\n",
    "\n",
    "max_ques_len"
   ]
  },
  {
   "cell_type": "code",
   "execution_count": 29,
   "metadata": {},
   "outputs": [],
   "source": [
    "# Toeknization\n",
    "from tensorflow.keras.preprocessing.sequence import pad_sequences\n",
    "from tensorflow.keras.preprocessing.text import Tokenizer"
   ]
  },
  {
   "cell_type": "code",
   "execution_count": 30,
   "metadata": {},
   "outputs": [],
   "source": [
    "tokenizer = Tokenizer(filters=[])\n",
    "\n",
    "tokenizer.fit_on_texts(vocab)"
   ]
  },
  {
   "cell_type": "code",
   "execution_count": 33,
   "metadata": {},
   "outputs": [
    {
     "data": {
      "text/plain": [
       "{'there': 1,\n",
       " 'yes': 2,\n",
       " 'grabbed': 3,\n",
       " 'put': 4,\n",
       " 'mary': 5,\n",
       " 'john': 6,\n",
       " 'picked': 7,\n",
       " 'milk': 8,\n",
       " 'left': 9,\n",
       " 'hallway': 10,\n",
       " 'in': 11,\n",
       " 'dropped': 12,\n",
       " 'went': 13,\n",
       " 'travelled': 14,\n",
       " 'office': 15,\n",
       " 'took': 16,\n",
       " 'discarded': 17,\n",
       " 'kitchen': 18,\n",
       " 'journeyed': 19,\n",
       " 'bathroom': 20,\n",
       " 'daniel': 21,\n",
       " '.': 22,\n",
       " 'garden': 23,\n",
       " 'to': 24,\n",
       " 'the': 25,\n",
       " 'up': 26,\n",
       " 'football': 27,\n",
       " 'moved': 28,\n",
       " 'back': 29,\n",
       " 'sandra': 30,\n",
       " 'got': 31,\n",
       " '?': 32,\n",
       " 'no': 33,\n",
       " 'bedroom': 34,\n",
       " 'is': 35,\n",
       " 'down': 36,\n",
       " 'apple': 37}"
      ]
     },
     "execution_count": 33,
     "metadata": {},
     "output_type": "execute_result"
    }
   ],
   "source": [
    "tokenizer.word_index"
   ]
  },
  {
   "cell_type": "code",
   "execution_count": 34,
   "metadata": {},
   "outputs": [],
   "source": [
    "train_story_text = []\n",
    "train_ques_text = []\n",
    "train_answers = []"
   ]
  },
  {
   "cell_type": "code",
   "execution_count": 35,
   "metadata": {},
   "outputs": [],
   "source": [
    "for story,ques,answers in train_data:\n",
    "    train_story_text.append(story)\n",
    "    train_ques_text.append(ques)\n",
    "    train_answers.append(answers)"
   ]
  },
  {
   "cell_type": "code",
   "execution_count": 36,
   "metadata": {},
   "outputs": [],
   "source": [
    "train_story_seq = tokenizer.texts_to_sequences(train_story_text)"
   ]
  },
  {
   "cell_type": "code",
   "execution_count": 37,
   "metadata": {},
   "outputs": [
    {
     "data": {
      "text/plain": [
       "10000"
      ]
     },
     "execution_count": 37,
     "metadata": {},
     "output_type": "execute_result"
    }
   ],
   "source": [
    "len(train_story_seq)"
   ]
  },
  {
   "cell_type": "code",
   "execution_count": 42,
   "metadata": {},
   "outputs": [],
   "source": [
    "# function to padd the stories\n",
    "def vectorize_stories(data,word_index = tokenizer.word_index,max_story_len = max_story_len,max_ques_len = max_ques_len):\n",
    "    \n",
    "    #stories\n",
    "    X = []\n",
    "    #questions\n",
    "    Q = []\n",
    "    #answers\n",
    "    Y = []\n",
    "    \n",
    "    for story,ques,answer in data:\n",
    "        \n",
    "        # for each story\n",
    "        x = [word_index[word.lower()] for word in story]\n",
    "        \n",
    "        # for each ques\n",
    "        q = [word_index[word.lower()] for word in ques]\n",
    "        \n",
    "        y = np.zeros(len(word_index)+1)\n",
    "        \n",
    "        y[word_index[answer]] = 1\n",
    "        \n",
    "        X.append(x)\n",
    "        Q.append(q)\n",
    "        Y.append(y)\n",
    "        \n",
    "    return (pad_sequences(X,maxlen = max_story_len),pad_sequences(Q,maxlen=max_ques_len),np.array(Y))\n",
    "        "
   ]
  },
  {
   "cell_type": "code",
   "execution_count": 43,
   "metadata": {},
   "outputs": [],
   "source": [
    "inputs_train,ques_train,answers_train = vectorize_stories(train_data)"
   ]
  },
  {
   "cell_type": "code",
   "execution_count": 48,
   "metadata": {},
   "outputs": [],
   "source": [
    "inputs_test,ques_test,answers_test = vectorize_stories(test_data)"
   ]
  },
  {
   "cell_type": "code",
   "execution_count": 45,
   "metadata": {},
   "outputs": [
    {
     "data": {
      "text/plain": [
       "array([[0., 0., 0., ..., 0., 0., 0.],\n",
       "       [0., 0., 0., ..., 0., 0., 0.],\n",
       "       [0., 0., 0., ..., 0., 0., 0.],\n",
       "       ...,\n",
       "       [0., 0., 0., ..., 0., 0., 0.],\n",
       "       [0., 0., 0., ..., 0., 0., 0.],\n",
       "       [0., 0., 1., ..., 0., 0., 0.]])"
      ]
     },
     "execution_count": 45,
     "metadata": {},
     "output_type": "execute_result"
    }
   ],
   "source": [
    "answers_train"
   ]
  },
  {
   "cell_type": "code",
   "execution_count": 49,
   "metadata": {},
   "outputs": [
    {
     "data": {
      "text/plain": [
       "array([[ 0,  0,  0, ..., 25, 34, 22],\n",
       "       [ 0,  0,  0, ..., 25, 23, 22],\n",
       "       [ 0,  0,  0, ..., 25, 23, 22],\n",
       "       ...,\n",
       "       [ 0,  0,  0, ..., 25, 37, 22],\n",
       "       [ 0,  0,  0, ..., 25, 23, 22],\n",
       "       [ 0,  0,  0, ..., 37,  1, 22]])"
      ]
     },
     "execution_count": 49,
     "metadata": {},
     "output_type": "execute_result"
    }
   ],
   "source": [
    "inputs_test"
   ]
  },
  {
   "cell_type": "code",
   "execution_count": 50,
   "metadata": {},
   "outputs": [
    {
     "data": {
      "text/plain": [
       "array([  0.,   0., 497.,   0.,   0.,   0.,   0.,   0.,   0.,   0.,   0.,\n",
       "         0.,   0.,   0.,   0.,   0.,   0.,   0.,   0.,   0.,   0.,   0.,\n",
       "         0.,   0.,   0.,   0.,   0.,   0.,   0.,   0.,   0.,   0.,   0.,\n",
       "       503.,   0.,   0.,   0.,   0.])"
      ]
     },
     "execution_count": 50,
     "metadata": {},
     "output_type": "execute_result"
    }
   ],
   "source": [
    "sum(answers_test)"
   ]
  },
  {
   "cell_type": "code",
   "execution_count": 51,
   "metadata": {},
   "outputs": [
    {
     "data": {
      "text/plain": [
       "array([   0.,    0., 5012.,    0.,    0.,    0.,    0.,    0.,    0.,\n",
       "          0.,    0.,    0.,    0.,    0.,    0.,    0.,    0.,    0.,\n",
       "          0.,    0.,    0.,    0.,    0.,    0.,    0.,    0.,    0.,\n",
       "          0.,    0.,    0.,    0.,    0.,    0., 4988.,    0.,    0.,\n",
       "          0.,    0.])"
      ]
     },
     "execution_count": 51,
     "metadata": {},
     "output_type": "execute_result"
    }
   ],
   "source": [
    "sum(answers_train)"
   ]
  },
  {
   "cell_type": "code",
   "execution_count": 52,
   "metadata": {},
   "outputs": [],
   "source": [
    "from tensorflow.keras.models import Sequential,Model\n",
    "from tensorflow.keras.layers import Embedding\n",
    "from tensorflow.keras.layers import Input,Activation,Dense,Permute,Dropout,add,dot,concatenate,LSTM"
   ]
  },
  {
   "cell_type": "code",
   "execution_count": 72,
   "metadata": {},
   "outputs": [],
   "source": [
    "# place holder shape = (max_story_len,batch_size)\n",
    "input_seq = Input((max_story_len,))\n",
    "ques_seq = Input((max_ques_len,))"
   ]
  },
  {
   "cell_type": "code",
   "execution_count": 73,
   "metadata": {},
   "outputs": [],
   "source": [
    "#vocab_len\n",
    "vocab_size = len(vocab)+1"
   ]
  },
  {
   "cell_type": "code",
   "execution_count": 74,
   "metadata": {},
   "outputs": [],
   "source": [
    "# Input encoder M\n",
    "\n",
    "input_encoder_m = Sequential()\n",
    "input_encoder_m.add(Embedding(input_dim=vocab_size,output_dim=64))\n",
    "input_encoder_m.add(Dropout(0.3))\n",
    "\n",
    "# OUTPUT\n",
    "# (samples,story_maxlen,embedding_dim)"
   ]
  },
  {
   "cell_type": "code",
   "execution_count": 75,
   "metadata": {},
   "outputs": [],
   "source": [
    "# Input encoder C\n",
    "input_encoder_c = Sequential()\n",
    "input_encoder_c.add(Embedding(input_dim=vocab_size,output_dim=max_ques_len))\n",
    "input_encoder_c.add(Dropout(0.3))\n",
    "\n",
    "# OUTPUT\n",
    "# (samples,story_maxlen,max_ques_len)"
   ]
  },
  {
   "cell_type": "code",
   "execution_count": 76,
   "metadata": {},
   "outputs": [],
   "source": [
    "# Question encoder \n",
    "question_encoder = Sequential()\n",
    "question_encoder.add(Embedding(input_dim = vocab_size,output_dim=64,input_length = max_ques_len))\n",
    "question_encoder.add(Dropout(0.3))\n",
    "\n",
    "# OUTPUT\n",
    "# (samples,ques_maxlen,embedding_dim)"
   ]
  },
  {
   "cell_type": "code",
   "execution_count": 77,
   "metadata": {},
   "outputs": [],
   "source": [
    "# ENCODED <----- ENCODER(INPUT)\n",
    "input_encoded_m = input_encoder_m(input_seq)\n",
    "\n",
    "input_encoded_c = input_encoder_c(input_seq)\n",
    "\n",
    "question_encoded = question_encoder(ques_seq)"
   ]
  },
  {
   "cell_type": "code",
   "execution_count": 78,
   "metadata": {},
   "outputs": [],
   "source": [
    "match = dot([input_encoded_m,question_encoded],axes=(2,2))\n",
    "match = Activation('softmax')(match)"
   ]
  },
  {
   "cell_type": "code",
   "execution_count": 79,
   "metadata": {},
   "outputs": [],
   "source": [
    "response = add([match,input_encoded_c])\n",
    "response = Permute((2,1))(response)"
   ]
  },
  {
   "cell_type": "code",
   "execution_count": 80,
   "metadata": {},
   "outputs": [],
   "source": [
    "answer=concatenate([response,question_encoded])"
   ]
  },
  {
   "cell_type": "code",
   "execution_count": 81,
   "metadata": {},
   "outputs": [
    {
     "data": {
      "text/plain": [
       "<KerasTensor: shape=(None, 6, 220) dtype=float32 (created by layer 'concatenate_1')>"
      ]
     },
     "execution_count": 81,
     "metadata": {},
     "output_type": "execute_result"
    }
   ],
   "source": [
    "answer # every step is performed as per the paper End-to-End Memory Networks"
   ]
  },
  {
   "cell_type": "code",
   "execution_count": 82,
   "metadata": {},
   "outputs": [],
   "source": [
    "answer = LSTM(32)(answer)\n"
   ]
  },
  {
   "cell_type": "code",
   "execution_count": 83,
   "metadata": {},
   "outputs": [],
   "source": [
    "answer =Dropout(0.5)(answer)"
   ]
  },
  {
   "cell_type": "code",
   "execution_count": 84,
   "metadata": {},
   "outputs": [],
   "source": [
    "answer = Dense(vocab_size)(answer) # (sample,vocab_size) YES/NO"
   ]
  },
  {
   "cell_type": "code",
   "execution_count": 85,
   "metadata": {},
   "outputs": [],
   "source": [
    "answer = Activation('softmax')(answer)"
   ]
  },
  {
   "cell_type": "code",
   "execution_count": 87,
   "metadata": {},
   "outputs": [],
   "source": [
    "model = Model([input_seq,ques_seq],answer)"
   ]
  },
  {
   "cell_type": "code",
   "execution_count": 88,
   "metadata": {},
   "outputs": [],
   "source": [
    "model.compile(optimizer='rmsprop',loss='categorical_crossentropy',metrics=['accuracy'])"
   ]
  },
  {
   "cell_type": "code",
   "execution_count": 89,
   "metadata": {},
   "outputs": [
    {
     "name": "stdout",
     "output_type": "stream",
     "text": [
      "Model: \"model\"\n",
      "__________________________________________________________________________________________________\n",
      "Layer (type)                    Output Shape         Param #     Connected to                     \n",
      "==================================================================================================\n",
      "input_3 (InputLayer)            [(None, 156)]        0                                            \n",
      "__________________________________________________________________________________________________\n",
      "input_4 (InputLayer)            [(None, 6)]          0                                            \n",
      "__________________________________________________________________________________________________\n",
      "sequential_6 (Sequential)       (None, None, 64)     2432        input_3[0][0]                    \n",
      "__________________________________________________________________________________________________\n",
      "sequential_8 (Sequential)       (None, 6, 64)        2432        input_4[0][0]                    \n",
      "__________________________________________________________________________________________________\n",
      "dot_1 (Dot)                     (None, 156, 6)       0           sequential_6[0][0]               \n",
      "                                                                 sequential_8[0][0]               \n",
      "__________________________________________________________________________________________________\n",
      "activation_1 (Activation)       (None, 156, 6)       0           dot_1[0][0]                      \n",
      "__________________________________________________________________________________________________\n",
      "sequential_7 (Sequential)       (None, None, 6)      228         input_3[0][0]                    \n",
      "__________________________________________________________________________________________________\n",
      "add_1 (Add)                     (None, 156, 6)       0           activation_1[0][0]               \n",
      "                                                                 sequential_7[0][0]               \n",
      "__________________________________________________________________________________________________\n",
      "permute_1 (Permute)             (None, 6, 156)       0           add_1[0][0]                      \n",
      "__________________________________________________________________________________________________\n",
      "concatenate_1 (Concatenate)     (None, 6, 220)       0           permute_1[0][0]                  \n",
      "                                                                 sequential_8[0][0]               \n",
      "__________________________________________________________________________________________________\n",
      "lstm_4 (LSTM)                   (None, 32)           32384       concatenate_1[0][0]              \n",
      "__________________________________________________________________________________________________\n",
      "dropout_8 (Dropout)             (None, 32)           0           lstm_4[0][0]                     \n",
      "__________________________________________________________________________________________________\n",
      "dense (Dense)                   (None, 38)           1254        dropout_8[0][0]                  \n",
      "__________________________________________________________________________________________________\n",
      "activation_2 (Activation)       (None, 38)           0           dense[0][0]                      \n",
      "==================================================================================================\n",
      "Total params: 38,730\n",
      "Trainable params: 38,730\n",
      "Non-trainable params: 0\n",
      "__________________________________________________________________________________________________\n"
     ]
    }
   ],
   "source": [
    "model.summary()"
   ]
  },
  {
   "cell_type": "code",
   "execution_count": 91,
   "metadata": {},
   "outputs": [
    {
     "name": "stdout",
     "output_type": "stream",
     "text": [
      "Epoch 1/100\n",
      "313/313 [==============================] - 22s 32ms/step - loss: 0.8821 - accuracy: 0.4983 - val_loss: 0.6960 - val_accuracy: 0.4970\n",
      "Epoch 2/100\n",
      "313/313 [==============================] - 8s 25ms/step - loss: 0.7015 - accuracy: 0.5078 - val_loss: 0.6932 - val_accuracy: 0.5040\n",
      "Epoch 3/100\n",
      "313/313 [==============================] - 8s 26ms/step - loss: 0.6971 - accuracy: 0.4901 - val_loss: 0.6933 - val_accuracy: 0.4970\n",
      "Epoch 4/100\n",
      "313/313 [==============================] - 8s 25ms/step - loss: 0.6946 - accuracy: 0.4992 - val_loss: 0.6932 - val_accuracy: 0.5030\n",
      "Epoch 5/100\n",
      "313/313 [==============================] - 8s 26ms/step - loss: 0.6945 - accuracy: 0.5042 - val_loss: 0.6999 - val_accuracy: 0.5030\n",
      "Epoch 6/100\n",
      "313/313 [==============================] - 8s 25ms/step - loss: 0.6955 - accuracy: 0.4922 - val_loss: 0.6932 - val_accuracy: 0.4860\n",
      "Epoch 7/100\n",
      "313/313 [==============================] - 8s 26ms/step - loss: 0.6944 - accuracy: 0.5051 - val_loss: 0.6941 - val_accuracy: 0.5030\n",
      "Epoch 8/100\n",
      "313/313 [==============================] - 8s 25ms/step - loss: 0.6944 - accuracy: 0.5016 - val_loss: 0.6950 - val_accuracy: 0.5030\n",
      "Epoch 9/100\n",
      "313/313 [==============================] - 8s 26ms/step - loss: 0.6944 - accuracy: 0.5019 - val_loss: 0.6941 - val_accuracy: 0.5030\n",
      "Epoch 10/100\n",
      "313/313 [==============================] - 8s 26ms/step - loss: 0.6941 - accuracy: 0.5028 - val_loss: 0.6953 - val_accuracy: 0.5030\n",
      "Epoch 11/100\n",
      "313/313 [==============================] - 8s 26ms/step - loss: 0.6928 - accuracy: 0.5126 - val_loss: 0.6950 - val_accuracy: 0.4930\n",
      "Epoch 12/100\n",
      "313/313 [==============================] - 8s 26ms/step - loss: 0.6911 - accuracy: 0.5287 - val_loss: 0.6995 - val_accuracy: 0.5120\n",
      "Epoch 13/100\n",
      "313/313 [==============================] - 8s 27ms/step - loss: 0.6873 - accuracy: 0.5341 - val_loss: 0.6939 - val_accuracy: 0.5000\n",
      "Epoch 14/100\n",
      "313/313 [==============================] - 8s 26ms/step - loss: 0.6740 - accuracy: 0.5720 - val_loss: 0.6656 - val_accuracy: 0.5810\n",
      "Epoch 15/100\n",
      "313/313 [==============================] - 8s 26ms/step - loss: 0.6487 - accuracy: 0.6264 - val_loss: 0.6428 - val_accuracy: 0.6240\n",
      "Epoch 16/100\n",
      "313/313 [==============================] - 8s 24ms/step - loss: 0.6232 - accuracy: 0.6594 - val_loss: 0.6210 - val_accuracy: 0.6690\n",
      "Epoch 17/100\n",
      "313/313 [==============================] - 8s 25ms/step - loss: 0.6069 - accuracy: 0.6776 - val_loss: 0.6033 - val_accuracy: 0.6740\n",
      "Epoch 18/100\n",
      "313/313 [==============================] - 7s 23ms/step - loss: 0.5920 - accuracy: 0.6885 - val_loss: 0.5844 - val_accuracy: 0.6830\n",
      "Epoch 19/100\n",
      "313/313 [==============================] - 8s 26ms/step - loss: 0.5783 - accuracy: 0.7024 - val_loss: 0.5627 - val_accuracy: 0.7100\n",
      "Epoch 20/100\n",
      "313/313 [==============================] - 7s 23ms/step - loss: 0.5679 - accuracy: 0.7084 - val_loss: 0.5485 - val_accuracy: 0.7140\n",
      "Epoch 21/100\n",
      "313/313 [==============================] - 8s 25ms/step - loss: 0.5483 - accuracy: 0.7227 - val_loss: 0.5498 - val_accuracy: 0.7220\n",
      "Epoch 22/100\n",
      "313/313 [==============================] - 7s 24ms/step - loss: 0.5386 - accuracy: 0.7298 - val_loss: 0.5259 - val_accuracy: 0.7330\n",
      "Epoch 23/100\n",
      "313/313 [==============================] - 8s 25ms/step - loss: 0.5249 - accuracy: 0.7356 - val_loss: 0.5255 - val_accuracy: 0.7310\n",
      "Epoch 24/100\n",
      "313/313 [==============================] - 8s 24ms/step - loss: 0.5185 - accuracy: 0.7437 - val_loss: 0.5136 - val_accuracy: 0.7420\n",
      "Epoch 25/100\n",
      "313/313 [==============================] - 8s 25ms/step - loss: 0.5101 - accuracy: 0.7498 - val_loss: 0.4993 - val_accuracy: 0.7550\n",
      "Epoch 26/100\n",
      "313/313 [==============================] - 7s 24ms/step - loss: 0.4989 - accuracy: 0.7563 - val_loss: 0.5137 - val_accuracy: 0.7450\n",
      "Epoch 27/100\n",
      "313/313 [==============================] - 8s 25ms/step - loss: 0.4938 - accuracy: 0.7588 - val_loss: 0.4988 - val_accuracy: 0.7480\n",
      "Epoch 28/100\n",
      "313/313 [==============================] - 7s 24ms/step - loss: 0.4865 - accuracy: 0.7655 - val_loss: 0.4935 - val_accuracy: 0.7500\n",
      "Epoch 29/100\n",
      "313/313 [==============================] - 8s 25ms/step - loss: 0.4843 - accuracy: 0.7690 - val_loss: 0.4807 - val_accuracy: 0.7600\n",
      "Epoch 30/100\n",
      "313/313 [==============================] - 7s 24ms/step - loss: 0.4751 - accuracy: 0.7741 - val_loss: 0.4761 - val_accuracy: 0.7550\n",
      "Epoch 31/100\n",
      "313/313 [==============================] - 8s 24ms/step - loss: 0.4676 - accuracy: 0.7814 - val_loss: 0.4790 - val_accuracy: 0.7590\n",
      "Epoch 32/100\n",
      "313/313 [==============================] - 8s 24ms/step - loss: 0.4541 - accuracy: 0.7882 - val_loss: 0.4766 - val_accuracy: 0.7600\n",
      "Epoch 33/100\n",
      "313/313 [==============================] - 8s 25ms/step - loss: 0.4474 - accuracy: 0.7896 - val_loss: 0.4761 - val_accuracy: 0.7650\n",
      "Epoch 34/100\n",
      "313/313 [==============================] - 8s 24ms/step - loss: 0.4490 - accuracy: 0.7899 - val_loss: 0.4664 - val_accuracy: 0.7630\n",
      "Epoch 35/100\n",
      "313/313 [==============================] - 8s 24ms/step - loss: 0.4451 - accuracy: 0.7914 - val_loss: 0.4754 - val_accuracy: 0.7760\n",
      "Epoch 36/100\n",
      "313/313 [==============================] - 8s 24ms/step - loss: 0.4366 - accuracy: 0.7966 - val_loss: 0.4711 - val_accuracy: 0.7610\n",
      "Epoch 37/100\n",
      "313/313 [==============================] - 7s 24ms/step - loss: 0.4360 - accuracy: 0.8017 - val_loss: 0.4608 - val_accuracy: 0.7760\n",
      "Epoch 38/100\n",
      "313/313 [==============================] - 8s 25ms/step - loss: 0.4318 - accuracy: 0.8003 - val_loss: 0.4662 - val_accuracy: 0.7790\n",
      "Epoch 39/100\n",
      "313/313 [==============================] - 7s 23ms/step - loss: 0.4306 - accuracy: 0.8013 - val_loss: 0.4597 - val_accuracy: 0.7750\n",
      "Epoch 40/100\n",
      "313/313 [==============================] - 8s 25ms/step - loss: 0.4249 - accuracy: 0.8052 - val_loss: 0.4882 - val_accuracy: 0.7620\n",
      "Epoch 41/100\n",
      "313/313 [==============================] - 7s 23ms/step - loss: 0.4181 - accuracy: 0.8077 - val_loss: 0.4488 - val_accuracy: 0.7830\n",
      "Epoch 42/100\n",
      "313/313 [==============================] - 8s 25ms/step - loss: 0.4211 - accuracy: 0.8120 - val_loss: 0.4497 - val_accuracy: 0.7830\n",
      "Epoch 43/100\n",
      "313/313 [==============================] - 7s 24ms/step - loss: 0.4157 - accuracy: 0.8101 - val_loss: 0.4453 - val_accuracy: 0.7890\n",
      "Epoch 44/100\n",
      "313/313 [==============================] - 8s 26ms/step - loss: 0.4092 - accuracy: 0.8126 - val_loss: 0.4587 - val_accuracy: 0.7940\n",
      "Epoch 45/100\n",
      "313/313 [==============================] - 7s 24ms/step - loss: 0.4080 - accuracy: 0.8173 - val_loss: 0.4508 - val_accuracy: 0.7940\n",
      "Epoch 46/100\n",
      "313/313 [==============================] - 8s 25ms/step - loss: 0.4025 - accuracy: 0.8217 - val_loss: 0.4438 - val_accuracy: 0.7950\n",
      "Epoch 47/100\n",
      "313/313 [==============================] - 7s 24ms/step - loss: 0.3959 - accuracy: 0.8283 - val_loss: 0.4374 - val_accuracy: 0.8030\n",
      "Epoch 48/100\n",
      "313/313 [==============================] - 8s 26ms/step - loss: 0.3903 - accuracy: 0.8301 - val_loss: 0.4296 - val_accuracy: 0.8020\n",
      "Epoch 49/100\n",
      "313/313 [==============================] - 7s 24ms/step - loss: 0.3847 - accuracy: 0.8322 - val_loss: 0.4304 - val_accuracy: 0.8080\n",
      "Epoch 50/100\n",
      "313/313 [==============================] - 8s 25ms/step - loss: 0.3790 - accuracy: 0.8322 - val_loss: 0.4380 - val_accuracy: 0.8030\n",
      "Epoch 51/100\n",
      "313/313 [==============================] - 7s 24ms/step - loss: 0.3765 - accuracy: 0.8351 - val_loss: 0.4207 - val_accuracy: 0.8020\n",
      "Epoch 52/100\n",
      "313/313 [==============================] - 8s 27ms/step - loss: 0.3762 - accuracy: 0.8350 - val_loss: 0.4033 - val_accuracy: 0.8120\n",
      "Epoch 53/100\n",
      "313/313 [==============================] - 8s 25ms/step - loss: 0.3690 - accuracy: 0.8374 - val_loss: 0.4268 - val_accuracy: 0.8080\n",
      "Epoch 54/100\n",
      "313/313 [==============================] - 8s 24ms/step - loss: 0.3674 - accuracy: 0.8409 - val_loss: 0.4245 - val_accuracy: 0.8150\n",
      "Epoch 55/100\n",
      "313/313 [==============================] - 8s 24ms/step - loss: 0.3660 - accuracy: 0.8381 - val_loss: 0.4165 - val_accuracy: 0.8140\n",
      "Epoch 56/100\n",
      "313/313 [==============================] - 8s 24ms/step - loss: 0.3646 - accuracy: 0.8394 - val_loss: 0.4072 - val_accuracy: 0.8200\n",
      "Epoch 57/100\n"
     ]
    },
    {
     "name": "stdout",
     "output_type": "stream",
     "text": [
      "313/313 [==============================] - 7s 23ms/step - loss: 0.3576 - accuracy: 0.8455 - val_loss: 0.4066 - val_accuracy: 0.8130\n",
      "Epoch 58/100\n",
      "313/313 [==============================] - 7s 23ms/step - loss: 0.3604 - accuracy: 0.8424 - val_loss: 0.4337 - val_accuracy: 0.8180\n",
      "Epoch 59/100\n",
      "313/313 [==============================] - 7s 23ms/step - loss: 0.3571 - accuracy: 0.8437 - val_loss: 0.4158 - val_accuracy: 0.8100\n",
      "Epoch 60/100\n",
      "313/313 [==============================] - 7s 22ms/step - loss: 0.3512 - accuracy: 0.8467 - val_loss: 0.4098 - val_accuracy: 0.8180\n",
      "Epoch 61/100\n",
      "313/313 [==============================] - 7s 23ms/step - loss: 0.3512 - accuracy: 0.8467 - val_loss: 0.4161 - val_accuracy: 0.8120\n",
      "Epoch 62/100\n",
      "313/313 [==============================] - 7s 22ms/step - loss: 0.3522 - accuracy: 0.8510 - val_loss: 0.4106 - val_accuracy: 0.8150\n",
      "Epoch 63/100\n",
      "313/313 [==============================] - 7s 24ms/step - loss: 0.3466 - accuracy: 0.8479 - val_loss: 0.4059 - val_accuracy: 0.8230\n",
      "Epoch 64/100\n",
      "313/313 [==============================] - 7s 22ms/step - loss: 0.3423 - accuracy: 0.8503 - val_loss: 0.4292 - val_accuracy: 0.8110\n",
      "Epoch 65/100\n",
      "313/313 [==============================] - 7s 23ms/step - loss: 0.3433 - accuracy: 0.8524 - val_loss: 0.4098 - val_accuracy: 0.8110\n",
      "Epoch 66/100\n",
      "313/313 [==============================] - 7s 23ms/step - loss: 0.3415 - accuracy: 0.8491 - val_loss: 0.3967 - val_accuracy: 0.8260\n",
      "Epoch 67/100\n",
      "313/313 [==============================] - 7s 22ms/step - loss: 0.3354 - accuracy: 0.8578 - val_loss: 0.4192 - val_accuracy: 0.8140\n",
      "Epoch 68/100\n",
      "313/313 [==============================] - 7s 24ms/step - loss: 0.3360 - accuracy: 0.8535 - val_loss: 0.4185 - val_accuracy: 0.8100\n",
      "Epoch 69/100\n",
      "313/313 [==============================] - 7s 22ms/step - loss: 0.3391 - accuracy: 0.8564 - val_loss: 0.4351 - val_accuracy: 0.8050\n",
      "Epoch 70/100\n",
      "313/313 [==============================] - 8s 24ms/step - loss: 0.3332 - accuracy: 0.8598 - val_loss: 0.4158 - val_accuracy: 0.8250\n",
      "Epoch 71/100\n",
      "313/313 [==============================] - 7s 22ms/step - loss: 0.3283 - accuracy: 0.8624 - val_loss: 0.4162 - val_accuracy: 0.8200\n",
      "Epoch 72/100\n",
      "313/313 [==============================] - 7s 24ms/step - loss: 0.3339 - accuracy: 0.8550 - val_loss: 0.4324 - val_accuracy: 0.8220\n",
      "Epoch 73/100\n",
      "313/313 [==============================] - 7s 23ms/step - loss: 0.3263 - accuracy: 0.8601 - val_loss: 0.4336 - val_accuracy: 0.8090\n",
      "Epoch 74/100\n",
      "313/313 [==============================] - 7s 24ms/step - loss: 0.3225 - accuracy: 0.8591 - val_loss: 0.4345 - val_accuracy: 0.8190\n",
      "Epoch 75/100\n",
      "313/313 [==============================] - 7s 23ms/step - loss: 0.3215 - accuracy: 0.8649 - val_loss: 0.4371 - val_accuracy: 0.8170\n",
      "Epoch 76/100\n",
      "313/313 [==============================] - 7s 23ms/step - loss: 0.3198 - accuracy: 0.8627 - val_loss: 0.4253 - val_accuracy: 0.8230\n",
      "Epoch 77/100\n",
      "313/313 [==============================] - 7s 23ms/step - loss: 0.3151 - accuracy: 0.8663 - val_loss: 0.4451 - val_accuracy: 0.8170\n",
      "Epoch 78/100\n",
      "313/313 [==============================] - 7s 23ms/step - loss: 0.3207 - accuracy: 0.8647 - val_loss: 0.4183 - val_accuracy: 0.8190\n",
      "Epoch 79/100\n",
      "313/313 [==============================] - 7s 24ms/step - loss: 0.3118 - accuracy: 0.8674 - val_loss: 0.4369 - val_accuracy: 0.8140\n",
      "Epoch 80/100\n",
      "313/313 [==============================] - 7s 22ms/step - loss: 0.3068 - accuracy: 0.8703 - val_loss: 0.4183 - val_accuracy: 0.8220\n",
      "Epoch 81/100\n",
      "313/313 [==============================] - 7s 24ms/step - loss: 0.3124 - accuracy: 0.8703 - val_loss: 0.4200 - val_accuracy: 0.8180\n",
      "Epoch 82/100\n",
      "313/313 [==============================] - 7s 22ms/step - loss: 0.3037 - accuracy: 0.8659 - val_loss: 0.4452 - val_accuracy: 0.8100\n",
      "Epoch 83/100\n",
      "313/313 [==============================] - 7s 23ms/step - loss: 0.3015 - accuracy: 0.8730 - val_loss: 0.4426 - val_accuracy: 0.8200\n",
      "Epoch 84/100\n",
      "313/313 [==============================] - 7s 22ms/step - loss: 0.3039 - accuracy: 0.8719 - val_loss: 0.4203 - val_accuracy: 0.8220\n",
      "Epoch 85/100\n",
      "313/313 [==============================] - 7s 23ms/step - loss: 0.3094 - accuracy: 0.8693 - val_loss: 0.4244 - val_accuracy: 0.8240\n",
      "Epoch 86/100\n",
      "313/313 [==============================] - 7s 23ms/step - loss: 0.2996 - accuracy: 0.8721 - val_loss: 0.4247 - val_accuracy: 0.8190\n",
      "Epoch 87/100\n",
      "313/313 [==============================] - 7s 23ms/step - loss: 0.2951 - accuracy: 0.8733 - val_loss: 0.4503 - val_accuracy: 0.8140\n",
      "Epoch 88/100\n",
      "313/313 [==============================] - 7s 24ms/step - loss: 0.2991 - accuracy: 0.8705 - val_loss: 0.4160 - val_accuracy: 0.8280\n",
      "Epoch 89/100\n",
      "313/313 [==============================] - 7s 22ms/step - loss: 0.2939 - accuracy: 0.8764 - val_loss: 0.4323 - val_accuracy: 0.8190\n",
      "Epoch 90/100\n",
      "313/313 [==============================] - 7s 24ms/step - loss: 0.2967 - accuracy: 0.8739 - val_loss: 0.4110 - val_accuracy: 0.8250\n",
      "Epoch 91/100\n",
      "313/313 [==============================] - 7s 22ms/step - loss: 0.2892 - accuracy: 0.8786 - val_loss: 0.4270 - val_accuracy: 0.8210\n",
      "Epoch 92/100\n",
      "313/313 [==============================] - 7s 23ms/step - loss: 0.2888 - accuracy: 0.8810 - val_loss: 0.4469 - val_accuracy: 0.8270\n",
      "Epoch 93/100\n",
      "313/313 [==============================] - 7s 22ms/step - loss: 0.2902 - accuracy: 0.8776 - val_loss: 0.4432 - val_accuracy: 0.8180\n",
      "Epoch 94/100\n",
      "313/313 [==============================] - 7s 23ms/step - loss: 0.2849 - accuracy: 0.8776 - val_loss: 0.4649 - val_accuracy: 0.8180\n",
      "Epoch 95/100\n",
      "313/313 [==============================] - 7s 23ms/step - loss: 0.2890 - accuracy: 0.8786 - val_loss: 0.4441 - val_accuracy: 0.8190\n",
      "Epoch 96/100\n",
      "313/313 [==============================] - 7s 23ms/step - loss: 0.2871 - accuracy: 0.8768 - val_loss: 0.4594 - val_accuracy: 0.8230\n",
      "Epoch 97/100\n",
      "313/313 [==============================] - 7s 23ms/step - loss: 0.2812 - accuracy: 0.8810 - val_loss: 0.4600 - val_accuracy: 0.8180\n",
      "Epoch 98/100\n",
      "313/313 [==============================] - 7s 22ms/step - loss: 0.2784 - accuracy: 0.8810 - val_loss: 0.4683 - val_accuracy: 0.8170\n",
      "Epoch 99/100\n",
      "313/313 [==============================] - 7s 23ms/step - loss: 0.2817 - accuracy: 0.8847 - val_loss: 0.4538 - val_accuracy: 0.8240\n",
      "Epoch 100/100\n",
      "313/313 [==============================] - 7s 22ms/step - loss: 0.2820 - accuracy: 0.8810 - val_loss: 0.4652 - val_accuracy: 0.8210\n"
     ]
    },
    {
     "data": {
      "text/plain": [
       "<tensorflow.python.keras.callbacks.History at 0x1e921883f70>"
      ]
     },
     "execution_count": 91,
     "metadata": {},
     "output_type": "execute_result"
    }
   ],
   "source": [
    "model.fit([inputs_train,ques_train],answers_train,batch_size=32,epochs = 100,validation_data = ([inputs_test,ques_test],answers_test))"
   ]
  },
  {
   "cell_type": "code",
   "execution_count": 94,
   "metadata": {},
   "outputs": [],
   "source": [
    "import matplotlib.pyplot as plt\n",
    "import pandas as pd"
   ]
  },
  {
   "cell_type": "code",
   "execution_count": 95,
   "metadata": {},
   "outputs": [
    {
     "data": {
      "text/html": [
       "<div>\n",
       "<style scoped>\n",
       "    .dataframe tbody tr th:only-of-type {\n",
       "        vertical-align: middle;\n",
       "    }\n",
       "\n",
       "    .dataframe tbody tr th {\n",
       "        vertical-align: top;\n",
       "    }\n",
       "\n",
       "    .dataframe thead th {\n",
       "        text-align: right;\n",
       "    }\n",
       "</style>\n",
       "<table border=\"1\" class=\"dataframe\">\n",
       "  <thead>\n",
       "    <tr style=\"text-align: right;\">\n",
       "      <th></th>\n",
       "      <th>loss</th>\n",
       "      <th>accuracy</th>\n",
       "      <th>val_loss</th>\n",
       "      <th>val_accuracy</th>\n",
       "    </tr>\n",
       "  </thead>\n",
       "  <tbody>\n",
       "    <tr>\n",
       "      <th>0</th>\n",
       "      <td>0.882109</td>\n",
       "      <td>0.4983</td>\n",
       "      <td>0.695977</td>\n",
       "      <td>0.497</td>\n",
       "    </tr>\n",
       "    <tr>\n",
       "      <th>1</th>\n",
       "      <td>0.701486</td>\n",
       "      <td>0.5078</td>\n",
       "      <td>0.693199</td>\n",
       "      <td>0.504</td>\n",
       "    </tr>\n",
       "    <tr>\n",
       "      <th>2</th>\n",
       "      <td>0.697071</td>\n",
       "      <td>0.4901</td>\n",
       "      <td>0.693333</td>\n",
       "      <td>0.497</td>\n",
       "    </tr>\n",
       "    <tr>\n",
       "      <th>3</th>\n",
       "      <td>0.694611</td>\n",
       "      <td>0.4992</td>\n",
       "      <td>0.693191</td>\n",
       "      <td>0.503</td>\n",
       "    </tr>\n",
       "    <tr>\n",
       "      <th>4</th>\n",
       "      <td>0.694536</td>\n",
       "      <td>0.5042</td>\n",
       "      <td>0.699857</td>\n",
       "      <td>0.503</td>\n",
       "    </tr>\n",
       "  </tbody>\n",
       "</table>\n",
       "</div>"
      ],
      "text/plain": [
       "       loss  accuracy  val_loss  val_accuracy\n",
       "0  0.882109    0.4983  0.695977         0.497\n",
       "1  0.701486    0.5078  0.693199         0.504\n",
       "2  0.697071    0.4901  0.693333         0.497\n",
       "3  0.694611    0.4992  0.693191         0.503\n",
       "4  0.694536    0.5042  0.699857         0.503"
      ]
     },
     "execution_count": 95,
     "metadata": {},
     "output_type": "execute_result"
    }
   ],
   "source": [
    "metrics = pd.DataFrame(model.history.history)\n",
    "\n",
    "metrics.head()"
   ]
  },
  {
   "cell_type": "code",
   "execution_count": 96,
   "metadata": {},
   "outputs": [
    {
     "data": {
      "text/plain": [
       "<AxesSubplot:>"
      ]
     },
     "execution_count": 96,
     "metadata": {},
     "output_type": "execute_result"
    },
    {
     "data": {
      "image/png": "[encoded data removed]",
      "text/plain": [
       "<Figure size 432x288 with 1 Axes>"
      ]
     },
     "metadata": {
      "needs_background": "light"
     },
     "output_type": "display_data"
    }
   ],
   "source": [
    "metrics[['loss','val_loss']].plot()"
   ]
  },
  {
   "cell_type": "code",
   "execution_count": 97,
   "metadata": {},
   "outputs": [
    {
     "data": {
      "text/plain": [
       "<AxesSubplot:>"
      ]
     },
     "execution_count": 97,
     "metadata": {},
     "output_type": "execute_result"
    },
    {
     "data": {
      "image/png": "[encoded data removed]",
      "text/plain": [
       "<Figure size 432x288 with 1 Axes>"
      ]
     },
     "metadata": {
      "needs_background": "light"
     },
     "output_type": "display_data"
    }
   ],
   "source": [
    "metrics[['accuracy','val_accuracy']].plot()"
   ]
  },
  {
   "cell_type": "code",
   "execution_count": 98,
   "metadata": {},
   "outputs": [],
   "source": [
    "pred_result = model.predict(([inputs_test,ques_test]))"
   ]
  },
  {
   "cell_type": "code",
   "execution_count": 100,
   "metadata": {},
   "outputs": [],
   "source": [
    "prediction = pred_result.argmax(axis=1)"
   ]
  },
  {
   "cell_type": "code",
   "execution_count": 101,
   "metadata": {},
   "outputs": [
    {
     "data": {
      "text/plain": [
       "array([33, 33,  2,  2,  2, 33, 33,  2, 33,  2,  2,  2,  2,  2,  2,  2,  2,\n",
       "        2, 33,  2,  2, 33,  2, 33, 33,  2,  2, 33, 33,  2,  2,  2, 33,  2,\n",
       "        2, 33,  2,  2,  2, 33,  2, 33, 33, 33,  2,  2,  2, 33,  2,  2,  2,\n",
       "       33,  2,  2,  2, 33, 33,  2, 33, 33, 33, 33,  2, 33,  2,  2,  2, 33,\n",
       "       33,  2, 33,  2, 33,  2,  2,  2,  2,  2, 33,  2,  2, 33,  2,  2, 33,\n",
       "       33,  2, 33,  2,  2,  2, 33, 33, 33, 33,  2, 33,  2,  2, 33, 33, 33,\n",
       "        2, 33, 33, 33, 33,  2, 33, 33, 33,  2,  2, 33,  2, 33,  2,  2,  2,\n",
       "        2, 33,  2,  2, 33,  2, 33,  2, 33, 33, 33, 33,  2, 33,  2, 33, 33,\n",
       "       33, 33, 33, 33, 33,  2, 33,  2,  2,  2, 33,  2, 33, 33,  2,  2, 33,\n",
       "        2, 33, 33, 33, 33, 33,  2,  2,  2,  2,  2,  2, 33,  2, 33,  2, 33,\n",
       "        2, 33, 33, 33,  2,  2,  2,  2, 33, 33,  2,  2,  2,  2, 33,  2,  2,\n",
       "        2,  2, 33,  2, 33,  2,  2,  2,  2,  2, 33, 33, 33,  2,  2,  2,  2,\n",
       "       33,  2,  2,  2,  2,  2,  2,  2, 33, 33, 33, 33,  2, 33, 33,  2,  2,\n",
       "        2, 33,  2,  2,  2,  2, 33,  2, 33, 33,  2, 33,  2,  2,  2, 33,  2,\n",
       "       33,  2, 33, 33,  2, 33, 33,  2,  2,  2, 33,  2,  2,  2, 33,  2,  2,\n",
       "        2, 33,  2, 33,  2, 33,  2,  2, 33, 33,  2,  2, 33, 33,  2,  2,  2,\n",
       "        2,  2,  2,  2,  2,  2, 33, 33,  2,  2,  2, 33, 33,  2,  2, 33, 33,\n",
       "       33,  2, 33,  2, 33, 33, 33,  2,  2, 33,  2,  2, 33,  2,  2, 33,  2,\n",
       "       33,  2, 33, 33,  2,  2,  2, 33,  2, 33, 33,  2, 33,  2,  2, 33,  2,\n",
       "       33, 33, 33, 33, 33, 33,  2,  2, 33,  2,  2,  2,  2,  2, 33, 33,  2,\n",
       "       33,  2,  2, 33,  2, 33, 33, 33, 33, 33,  2,  2,  2,  2,  2, 33,  2,\n",
       "        2, 33,  2,  2, 33, 33,  2, 33, 33, 33,  2, 33, 33, 33, 33,  2, 33,\n",
       "       33, 33,  2, 33,  2,  2,  2,  2, 33,  2,  2, 33,  2, 33,  2, 33, 33,\n",
       "       33, 33, 33, 33, 33,  2,  2,  2, 33,  2, 33, 33, 33,  2,  2, 33,  2,\n",
       "       33, 33,  2,  2, 33, 33,  2, 33,  2,  2, 33, 33,  2, 33,  2, 33,  2,\n",
       "       33, 33, 33, 33, 33, 33,  2,  2,  2, 33,  2,  2,  2,  2,  2,  2,  2,\n",
       "       33, 33,  2, 33, 33, 33, 33, 33,  2, 33,  2,  2, 33, 33,  2, 33,  2,\n",
       "        2, 33, 33,  2, 33,  2,  2,  2,  2,  2,  2,  2, 33,  2,  2,  2,  2,\n",
       "        2,  2,  2, 33,  2, 33,  2, 33,  2,  2,  2,  2,  2, 33,  2, 33,  2,\n",
       "        2,  2, 33,  2,  2,  2, 33, 33,  2,  2,  2,  2,  2, 33,  2, 33,  2,\n",
       "       33, 33, 33,  2, 33,  2, 33,  2, 33,  2, 33, 33, 33,  2,  2, 33,  2,\n",
       "       33,  2, 33,  2,  2,  2,  2,  2, 33,  2,  2,  2,  2, 33,  2,  2, 33,\n",
       "        2, 33, 33,  2,  2,  2,  2,  2,  2,  2, 33, 33,  2, 33, 33,  2, 33,\n",
       "       33, 33,  2,  2,  2, 33,  2, 33,  2, 33,  2, 33, 33,  2,  2,  2,  2,\n",
       "        2, 33, 33, 33,  2,  2, 33,  2, 33, 33, 33,  2,  2, 33,  2,  2, 33,\n",
       "        2, 33,  2,  2, 33,  2, 33,  2, 33,  2,  2,  2, 33,  2,  2,  2,  2,\n",
       "        2, 33, 33, 33,  2, 33,  2, 33, 33,  2, 33,  2,  2,  2,  2,  2, 33,\n",
       "       33, 33, 33,  2, 33, 33,  2, 33,  2,  2, 33,  2,  2, 33,  2, 33,  2,\n",
       "        2,  2, 33, 33,  2,  2,  2,  2,  2, 33,  2,  2,  2,  2, 33,  2,  2,\n",
       "       33, 33,  2,  2, 33, 33, 33, 33, 33, 33, 33, 33,  2, 33,  2, 33, 33,\n",
       "       33,  2,  2, 33, 33,  2,  2,  2, 33,  2, 33, 33, 33,  2, 33, 33,  2,\n",
       "       33,  2, 33, 33, 33,  2, 33, 33, 33, 33,  2,  2,  2,  2,  2,  2,  2,\n",
       "        2, 33,  2,  2, 33,  2,  2, 33,  2, 33,  2,  2,  2,  2,  2,  2,  2,\n",
       "        2,  2,  2, 33,  2,  2, 33, 33, 33, 33, 33,  2, 33,  2, 33, 33, 33,\n",
       "        2,  2,  2,  2,  2, 33, 33,  2, 33,  2,  2, 33,  2,  2,  2,  2,  2,\n",
       "       33, 33, 33,  2,  2, 33, 33,  2,  2,  2, 33, 33,  2, 33, 33, 33, 33,\n",
       "        2,  2, 33,  2,  2,  2, 33, 33, 33,  2, 33, 33, 33,  2,  2,  2,  2,\n",
       "       33,  2,  2,  2,  2, 33, 33,  2, 33,  2, 33,  2,  2,  2,  2,  2, 33,\n",
       "        2,  2,  2,  2, 33, 33,  2,  2, 33,  2, 33,  2,  2,  2,  2, 33,  2,\n",
       "       33,  2, 33, 33, 33,  2, 33, 33, 33, 33, 33, 33,  2,  2, 33,  2, 33,\n",
       "        2, 33, 33, 33, 33, 33, 33,  2,  2,  2, 33,  2, 33,  2,  2, 33,  2,\n",
       "        2,  2,  2,  2,  2,  2, 33, 33, 33, 33,  2, 33, 33, 33, 33, 33,  2,\n",
       "        2,  2, 33,  2, 33,  2, 33, 33,  2,  2,  2, 33,  2,  2,  2,  2, 33,\n",
       "        2,  2,  2,  2,  2, 33, 33, 33, 33,  2, 33, 33,  2,  2,  2,  2,  2,\n",
       "       33,  2,  2,  2,  2, 33, 33, 33,  2,  2,  2, 33,  2, 33, 33, 33,  2,\n",
       "        2, 33, 33,  2,  2,  2, 33, 33,  2, 33,  2,  2, 33,  2,  2,  2, 33,\n",
       "        2,  2,  2,  2,  2,  2, 33,  2, 33,  2,  2,  2,  2, 33,  2, 33,  2,\n",
       "        2,  2, 33, 33, 33, 33,  2,  2,  2,  2, 33, 33, 33, 33,  2,  2,  2,\n",
       "       33,  2, 33,  2,  2, 33, 33,  2,  2, 33, 33, 33,  2,  2],\n",
       "      dtype=int64)"
      ]
     },
     "execution_count": 101,
     "metadata": {},
     "output_type": "execute_result"
    }
   ],
   "source": [
    "prediction"
   ]
  },
  {
   "cell_type": "code",
   "execution_count": 103,
   "metadata": {},
   "outputs": [],
   "source": [
    "answers = answers_test.argmax(axis=1)"
   ]
  },
  {
   "cell_type": "code",
   "execution_count": 105,
   "metadata": {},
   "outputs": [],
   "source": [
    "from sklearn.metrics import classification_report"
   ]
  },
  {
   "cell_type": "code",
   "execution_count": 106,
   "metadata": {
    "scrolled": true
   },
   "outputs": [
    {
     "name": "stdout",
     "output_type": "stream",
     "text": [
      "              precision    recall  f1-score   support\n",
      "\n",
      "           2       0.79      0.88      0.83       497\n",
      "          33       0.86      0.76      0.81       503\n",
      "\n",
      "    accuracy                           0.82      1000\n",
      "   macro avg       0.83      0.82      0.82      1000\n",
      "weighted avg       0.83      0.82      0.82      1000\n",
      "\n"
     ]
    }
   ],
   "source": [
    "print(classification_report(answers,prediction))"
   ]
  },
  {
   "cell_type": "code",
   "execution_count": 108,
   "metadata": {},
   "outputs": [
    {
     "data": {
      "text/plain": [
       "(['Mary',\n",
       "  'got',\n",
       "  'the',\n",
       "  'milk',\n",
       "  'there',\n",
       "  '.',\n",
       "  'John',\n",
       "  'moved',\n",
       "  'to',\n",
       "  'the',\n",
       "  'bedroom',\n",
       "  '.'],\n",
       " ['Is', 'John', 'in', 'the', 'kitchen', '?'],\n",
       " 'no')"
      ]
     },
     "execution_count": 108,
     "metadata": {},
     "output_type": "execute_result"
    }
   ],
   "source": [
    "# Prediction on single data\n",
    "test_data[0]"
   ]
  },
  {
   "cell_type": "code",
   "execution_count": null,
   "metadata": {},
   "outputs": [],
   "source": []
  }
 ],
 "metadata": {
  "kernelspec": {
   "display_name": "Python 3",
   "language": "python",
   "name": "python3"
  },
  "language_info": {
   "codemirror_mode": {
    "name": "ipython",
    "version": 3
   },
   "file_extension": ".py",
   "mimetype": "text/x-python",
   "name": "python",
   "nbconvert_exporter": "python",
   "pygments_lexer": "ipython3",
   "version": "3.8.5"
  }
 },
 "nbformat": 4,
 "nbformat_minor": 4
}
