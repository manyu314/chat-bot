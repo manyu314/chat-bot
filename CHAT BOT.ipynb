{
 "cells": [
  {
   "cell_type": "markdown",
   "metadata": {},
   "source": [
    "**Based on Paper End to End Memory Networks - Jason Weston,Sainbayar Sukhbaatar**"
   ]
  },
  {
   "cell_type": "code",
   "execution_count": 83,
   "metadata": {},
   "outputs": [],
   "source": [
    "import pickle\n",
    "import numpy as np\n",
    "import pandas as pd\n",
    "import matplotlib.pyplot as plt"
   ]
  },
  {
   "cell_type": "code",
   "execution_count": 2,
   "metadata": {},
   "outputs": [],
   "source": [
    "# Loading the training data\n",
    "with open('train_qa.txt','rb') as f:\n",
    "    train_qa = pickle.load(f)"
   ]
  },
  {
   "cell_type": "code",
   "execution_count": 3,
   "metadata": {},
   "outputs": [],
   "source": [
    "# Loading the testing data\n",
    "with open('test_qa.txt','rb') as f:\n",
    "    test_qa = pickle.load(f)"
   ]
  },
  {
   "cell_type": "code",
   "execution_count": 5,
   "metadata": {},
   "outputs": [
    {
     "name": "stdout",
     "output_type": "stream",
     "text": [
      "<class 'list'>\n"
     ]
    }
   ],
   "source": [
    "# Let's check the type of data\n",
    "print(type(train_qa))"
   ]
  },
  {
   "cell_type": "code",
   "execution_count": 6,
   "metadata": {},
   "outputs": [
    {
     "name": "stdout",
     "output_type": "stream",
     "text": [
      "The length of the training data is 10000\n"
     ]
    }
   ],
   "source": [
    "# Let's check the length of the training data\n",
    "print(f\"The length of the training data is {len(train_qa)}\")"
   ]
  },
  {
   "cell_type": "code",
   "execution_count": 8,
   "metadata": {},
   "outputs": [
    {
     "name": "stdout",
     "output_type": "stream",
     "text": [
      "The length of the test data is 1000\n"
     ]
    }
   ],
   "source": [
    "# Let's check the length of the test data\n",
    "print(f\"The length of the test data is {len(test_qa)}\")"
   ]
  },
  {
   "cell_type": "code",
   "execution_count": 10,
   "metadata": {},
   "outputs": [
    {
     "data": {
      "text/plain": [
       "(['Sandra',\n",
       "  'went',\n",
       "  'back',\n",
       "  'to',\n",
       "  'the',\n",
       "  'hallway',\n",
       "  '.',\n",
       "  'Sandra',\n",
       "  'moved',\n",
       "  'to',\n",
       "  'the',\n",
       "  'office',\n",
       "  '.'],\n",
       " ['Is', 'Sandra', 'in', 'the', 'office', '?'],\n",
       " 'yes')"
      ]
     },
     "execution_count": 10,
     "metadata": {},
     "output_type": "execute_result"
    }
   ],
   "source": [
    "# Let's check any training data.\n",
    "train_qa[10]"
   ]
  },
  {
   "cell_type": "code",
   "execution_count": 12,
   "metadata": {},
   "outputs": [
    {
     "name": "stdout",
     "output_type": "stream",
     "text": [
      "Statement: Sandra went back to the hallway . Sandra moved to the office .\n",
      "\n",
      "\n",
      "Question: Is Sandra in the office ?\n",
      "\n",
      "\n",
      "Answer: yes\n"
     ]
    }
   ],
   "source": [
    "# Let's organise it in the proper format\n",
    "statement = ' '.join(train_qa[10][0])\n",
    "question = ' '.join(train_qa[10][1])\n",
    "answer = train_qa[10][2]\n",
    "\n",
    "print(f\"Statement: {statement}\")\n",
    "print('\\n')\n",
    "print(f\"Question: {question}\")\n",
    "print('\\n')\n",
    "print(f\"Answer: {answer}\")"
   ]
  },
  {
   "cell_type": "markdown",
   "metadata": {},
   "source": [
    "**Our model will take Statement and Question as input and try to predict the Answer**"
   ]
  },
  {
   "cell_type": "code",
   "execution_count": 13,
   "metadata": {},
   "outputs": [],
   "source": [
    "# Let's create a vocabulary which will consist of all the words present in training data and testing data"
   ]
  },
  {
   "cell_type": "code",
   "execution_count": 14,
   "metadata": {},
   "outputs": [],
   "source": [
    "# since training data and testing data are list.We can add them up to create a new list which consist of both \n",
    "# train and test data\n",
    "data = train_qa+test_qa"
   ]
  },
  {
   "cell_type": "code",
   "execution_count": 21,
   "metadata": {},
   "outputs": [],
   "source": [
    "# Vocabulary should only consist of unique words. So lets create a vocab variable which will only consist of unique words\n",
    "# from both train and test data\n",
    "\n",
    "vocabulary = set() # empty set. It will autmatically remove the duplicate words\n",
    "\n",
    "for statement,question,answer in data:\n",
    "    vocabulary = vocabulary.union(set(statement))\n",
    "    vocabulary = vocabulary.union(set(question))\n",
    "\n",
    "# Let's add the yes and no to the vocabulary\n",
    "vocabulary.add('no')\n",
    "vocabulary.add('yes')"
   ]
  },
  {
   "cell_type": "code",
   "execution_count": 16,
   "metadata": {},
   "outputs": [
    {
     "name": "stdout",
     "output_type": "stream",
     "text": [
      "{'journeyed', 'grabbed', 'in', 'went', 'bedroom', 'moved', 'took', 'John', 'Mary', 'kitchen', 'hallway', 'garden', 'put', 'got', 'picked', '.', 'dropped', 'up', 'travelled', 'discarded', 'yes', 'no', 'football', '?', 'to', 'the', 'Sandra', 'bathroom', 'office', 'left', 'Is', 'Daniel', 'back', 'there', 'milk', 'apple', 'down'}\n"
     ]
    }
   ],
   "source": [
    "# Let's check the set of all the possible words in vocabulary\n",
    "print(vocabulary)"
   ]
  },
  {
   "cell_type": "code",
   "execution_count": 20,
   "metadata": {},
   "outputs": [
    {
     "name": "stdout",
     "output_type": "stream",
     "text": [
      "Total number of words in vocabulary is 38\n"
     ]
    }
   ],
   "source": [
    "# Let's take the length of vocabulary\n",
    "# We add 1 so that we can later use it in pad_sequences and index 0 is a place holder.\n",
    "vocabulary_length = len(vocabulary)+1\n",
    "\n",
    "print(f\"Total number of words in vocabulary is {vocabulary_length}\") # 37 unique words a nd 1 place holder for pad sequences"
   ]
  },
  {
   "cell_type": "code",
   "execution_count": 25,
   "metadata": {},
   "outputs": [
    {
     "name": "stdout",
     "output_type": "stream",
     "text": [
      "The length of longest statement is 156\n"
     ]
    }
   ],
   "source": [
    "# Now, we have to put the statements and questions in a right format so that it can be understood and trained by our RNN model\n",
    "# We will use Tokenizer and pad_sequences to convert them into right format\n",
    "\n",
    "\n",
    "# Let's check the maximum length of statement present in the data\n",
    "\n",
    "# List of length of all the statements\n",
    "all_statement_length = [len(item[0]) for item in data]\n",
    "\n",
    "# Maximum value present in the all_statement_legnth will the length of the longest statement\n",
    "max_statement_length = max(all_statement_length)\n",
    "\n",
    "# Longest statement\n",
    "print(f\"The length of longest statement is {max_statement_length}\")"
   ]
  },
  {
   "cell_type": "code",
   "execution_count": 27,
   "metadata": {},
   "outputs": [
    {
     "name": "stdout",
     "output_type": "stream",
     "text": [
      "The length of longest question is 6\n"
     ]
    }
   ],
   "source": [
    "# Let's check the maximum length of question present in the data\n",
    "\n",
    "# List of length of all the questions\n",
    "all_questions_length = [len(item[1]) for item in data]\n",
    "\n",
    "# Maximum value present in the all_questions_legnth will the length of the longest question\n",
    "max_question_length = max(all_questions_length)\n",
    "\n",
    "# Longest statement\n",
    "print(f\"The length of longest question is {max_question_length}\")"
   ]
  },
  {
   "cell_type": "code",
   "execution_count": 28,
   "metadata": {},
   "outputs": [],
   "source": [
    "# Toeknization and pad sequences\n",
    "from tensorflow.keras.preprocessing.sequence import pad_sequences\n",
    "from tensorflow.keras.preprocessing.text import Tokenizer"
   ]
  },
  {
   "cell_type": "code",
   "execution_count": 29,
   "metadata": {},
   "outputs": [],
   "source": [
    "# Tokenizer is used to vectorize the data.Unique number is assigned to each word present in the vocabulary\n",
    "tokenizer = Tokenizer(filters='')\n",
    "tokenizer.fit_on_texts(vocabulary)"
   ]
  },
  {
   "cell_type": "code",
   "execution_count": 30,
   "metadata": {},
   "outputs": [
    {
     "data": {
      "text/plain": [
       "{'journeyed': 1,\n",
       " 'grabbed': 2,\n",
       " 'in': 3,\n",
       " 'went': 4,\n",
       " 'bedroom': 5,\n",
       " 'moved': 6,\n",
       " 'took': 7,\n",
       " 'john': 8,\n",
       " 'mary': 9,\n",
       " 'kitchen': 10,\n",
       " 'hallway': 11,\n",
       " 'garden': 12,\n",
       " 'put': 13,\n",
       " 'got': 14,\n",
       " 'picked': 15,\n",
       " '.': 16,\n",
       " 'dropped': 17,\n",
       " 'up': 18,\n",
       " 'travelled': 19,\n",
       " 'discarded': 20,\n",
       " 'yes': 21,\n",
       " 'no': 22,\n",
       " 'football': 23,\n",
       " '?': 24,\n",
       " 'to': 25,\n",
       " 'the': 26,\n",
       " 'sandra': 27,\n",
       " 'bathroom': 28,\n",
       " 'office': 29,\n",
       " 'left': 30,\n",
       " 'is': 31,\n",
       " 'daniel': 32,\n",
       " 'back': 33,\n",
       " 'there': 34,\n",
       " 'milk': 35,\n",
       " 'apple': 36,\n",
       " 'down': 37}"
      ]
     },
     "execution_count": 30,
     "metadata": {},
     "output_type": "execute_result"
    }
   ],
   "source": [
    "# Let's check the tokenizer object. It will be a dictionary with every word assigned a unique number\n",
    "tokenizer.word_index"
   ]
  },
  {
   "cell_type": "code",
   "execution_count": 34,
   "metadata": {},
   "outputs": [],
   "source": [
    "# Now let's convert the statements,question,and answers into correct format.\n",
    "# First by seperating statement,question,answer from training data and testing data.\n",
    "# Then assigning each word there matching word index.\n",
    "# and making each statement of same length and each question of same lenght using pad sequences."
   ]
  },
  {
   "cell_type": "code",
   "execution_count": 39,
   "metadata": {},
   "outputs": [],
   "source": [
    "# Let's create a function that will vectorize each statements,questions ans answer using pad sequences\n",
    "def vectorize(data,word_index = tokenizer.word_index,max_statement_length = max_statement_length,max_question_length = max_question_length):\n",
    "    \n",
    "    # statements\n",
    "    statements = []\n",
    "    # questions\n",
    "    questions = []\n",
    "    # answers\n",
    "    answers = []\n",
    "    \n",
    "    for statement,question,answer in data:\n",
    "        \n",
    "        # for each statement\n",
    "        s = [word_index[word.lower()] for word in statement]\n",
    "        \n",
    "        # for each question\n",
    "        q = [word_index[word.lower()] for word in question]\n",
    "        \n",
    "        y = np.zeros(len(word_index)+1)\n",
    "        \n",
    "        y[word_index[answer]] = 1\n",
    "        \n",
    "        statements.append(s)\n",
    "        questions.append(q)\n",
    "        answers.append(y)\n",
    "    \n",
    "    # doing the pad_sequences and returning\n",
    "    return (pad_sequences(statements,maxlen = max_statement_length),pad_sequences(questions,maxlen=max_question_length),np.array(answers))\n",
    "        "
   ]
  },
  {
   "cell_type": "code",
   "execution_count": 40,
   "metadata": {},
   "outputs": [],
   "source": [
    "# Let's apply the above function on training data\n",
    "train_statements,train_questions,train_answers = vectorize(train_qa)"
   ]
  },
  {
   "cell_type": "code",
   "execution_count": 41,
   "metadata": {},
   "outputs": [],
   "source": [
    "# Let's appy the above function on testing data\n",
    "test_statements,test_questions,test_answers = vectorize(test_qa)"
   ]
  },
  {
   "cell_type": "code",
   "execution_count": 42,
   "metadata": {},
   "outputs": [
    {
     "data": {
      "text/plain": [
       "array([[ 0,  0,  0, ..., 26,  5, 16],\n",
       "       [ 0,  0,  0, ..., 26, 11, 16],\n",
       "       [ 0,  0,  0, ..., 26, 28, 16],\n",
       "       ...,\n",
       "       [ 0,  0,  0, ..., 26,  5, 16],\n",
       "       [ 0,  0,  0, ..., 35, 34, 16],\n",
       "       [ 0,  0,  0, ..., 36, 34, 16]])"
      ]
     },
     "execution_count": 42,
     "metadata": {},
     "output_type": "execute_result"
    }
   ],
   "source": [
    "# Let's check the train_statements\n",
    "train_statements"
   ]
  },
  {
   "cell_type": "code",
   "execution_count": 43,
   "metadata": {},
   "outputs": [
    {
     "data": {
      "text/plain": [
       "array([[31, 27,  3, 26, 11, 24],\n",
       "       [31, 32,  3, 26, 28, 24],\n",
       "       [31, 32,  3, 26, 29, 24],\n",
       "       ...,\n",
       "       [31, 27,  3, 26, 11, 24],\n",
       "       [31,  9,  3, 26, 10, 24],\n",
       "       [31,  9,  3, 26,  5, 24]])"
      ]
     },
     "execution_count": 43,
     "metadata": {},
     "output_type": "execute_result"
    }
   ],
   "source": [
    "# Let's check the train_questions\n",
    "train_questions"
   ]
  },
  {
   "cell_type": "code",
   "execution_count": 63,
   "metadata": {},
   "outputs": [
    {
     "data": {
      "text/plain": [
       "array([   0.,    0.,    0.,    0.,    0.,    0.,    0.,    0.,    0.,\n",
       "          0.,    0.,    0.,    0.,    0.,    0.,    0.,    0.,    0.,\n",
       "          0.,    0.,    0., 5012., 4988.,    0.,    0.,    0.,    0.,\n",
       "          0.,    0.,    0.,    0.,    0.,    0.,    0.,    0.,    0.,\n",
       "          0.,    0.])"
      ]
     },
     "execution_count": 63,
     "metadata": {},
     "output_type": "execute_result"
    }
   ],
   "source": [
    "# Let's check the train_answers\n",
    "# please note that each item is of length of vocabulary and the value of yes will be 1 at index coresponding to its toekinzer.word_index value\n",
    "# same is for no. If answer is yes 1 will be at index 21 and if no 1 will be at index 22.Rest will be 0\n",
    "\n",
    "# we can check this is summing the value of all the items in train answer\n",
    "sum(train_answers)"
   ]
  },
  {
   "cell_type": "code",
   "execution_count": 64,
   "metadata": {},
   "outputs": [],
   "source": [
    "# Index at 21 and 22 only have value"
   ]
  },
  {
   "cell_type": "code",
   "execution_count": 65,
   "metadata": {},
   "outputs": [],
   "source": [
    "# Let's create our model\n",
    "from tensorflow.keras.models import Sequential,Model\n",
    "from tensorflow.keras.layers import Embedding\n",
    "from tensorflow.keras.layers import Input,Activation,Dense,Permute,Dropout,add,dot,concatenate,LSTM"
   ]
  },
  {
   "cell_type": "code",
   "execution_count": 68,
   "metadata": {},
   "outputs": [],
   "source": [
    "# We have two inputs - statements and questions.We will create a place holder for both statements and questions\n",
    "# place holder shape = (max_statement_length,batch_size)\n",
    "statement_sequence = Input(shape =(max_statement_length,))\n",
    "question_sequence = Input(shape = (max_question_length,))"
   ]
  },
  {
   "cell_type": "code",
   "execution_count": 69,
   "metadata": {},
   "outputs": [],
   "source": [
    "# Input encoder M\n",
    "input_encoder_m = Sequential()\n",
    "input_encoder_m.add(Embedding(input_dim=vocabulary_length,output_dim=64))\n",
    "input_encoder_m.add(Dropout(0.4))\n",
    "\n",
    "# OUTPUT will be the form \n",
    "# (samples,max_statement_lenght,embedding_dimension)"
   ]
  },
  {
   "cell_type": "code",
   "execution_count": 71,
   "metadata": {},
   "outputs": [],
   "source": [
    "# Input encoder C\n",
    "input_encoder_c = Sequential()\n",
    "input_encoder_c.add(Embedding(input_dim=vocabulary_length,output_dim=max_question_length))\n",
    "input_encoder_c.add(Dropout(0.4))\n",
    "\n",
    "# OUTPUT\n",
    "# (samples,max_statement_length,max_question_length)"
   ]
  },
  {
   "cell_type": "code",
   "execution_count": 72,
   "metadata": {},
   "outputs": [],
   "source": [
    "# Question encoder \n",
    "question_encoder = Sequential()\n",
    "question_encoder.add(Embedding(input_dim = vocabulary_length,output_dim=64,input_length = max_question_length))\n",
    "question_encoder.add(Dropout(0.4))\n",
    "\n",
    "# OUTPUT\n",
    "# (samples,max_question_len,embedding_dimension)"
   ]
  },
  {
   "cell_type": "code",
   "execution_count": 73,
   "metadata": {},
   "outputs": [],
   "source": [
    "# Lets encode the statement sequence and question sequence by passing them to input_encoder_m,input_encoder_c and question_encoder\n",
    "input_encoded_m = input_encoder_m(statement_sequence)\n",
    "\n",
    "input_encoded_c = input_encoder_c(statement_sequence)\n",
    "\n",
    "question_encoded = question_encoder(question_sequence)"
   ]
  },
  {
   "cell_type": "code",
   "execution_count": 75,
   "metadata": {},
   "outputs": [],
   "source": [
    "# Now we take the dot product of input_encoded_m,question encoded\n",
    "dot_product = dot([input_encoded_m,question_encoded],axes=(2,2))\n",
    "\n",
    "# Let's apply the sofmax axtivation function on dot_product\n",
    "dot_product = Activation('softmax')(dot_product)"
   ]
  },
  {
   "cell_type": "code",
   "execution_count": 80,
   "metadata": {},
   "outputs": [],
   "source": [
    "# Now adding the dot_product to input_encoded_c\n",
    "output_memory = add([dot_product,input_encoded_c])\n",
    "\n",
    "# To get the required dimension of the input\n",
    "output_memory = Permute((2,1))(output_memory)"
   ]
  },
  {
   "cell_type": "code",
   "execution_count": 82,
   "metadata": {},
   "outputs": [],
   "source": [
    "# output_memory and question encoded are added and then passed through weights and softmax activation to predict final ouput \n",
    "prediction=concatenate([output_memory,question_encoded])\n",
    "\n",
    "prediction = LSTM(32)(prediction)\n",
    "\n",
    "prediction = Dropout(0.5)(prediction)\n",
    "\n",
    "prediction = Dense(vocabulary_length)(prediction) # output layer\n",
    "\n",
    "prediction = Activation('softmax')(prediction)"
   ]
  },
  {
   "cell_type": "code",
   "execution_count": 84,
   "metadata": {},
   "outputs": [
    {
     "name": "stdout",
     "output_type": "stream",
     "text": [
      "Model: \"model\"\n",
      "__________________________________________________________________________________________________\n",
      "Layer (type)                    Output Shape         Param #     Connected to                     \n",
      "==================================================================================================\n",
      "input_1 (InputLayer)            [(None, 156)]        0                                            \n",
      "__________________________________________________________________________________________________\n",
      "input_2 (InputLayer)            [(None, 6)]          0                                            \n",
      "__________________________________________________________________________________________________\n",
      "sequential_1 (Sequential)       (None, None, 64)     2432        input_1[0][0]                    \n",
      "__________________________________________________________________________________________________\n",
      "sequential_4 (Sequential)       (None, 6, 64)        2432        input_2[0][0]                    \n",
      "__________________________________________________________________________________________________\n",
      "dot_1 (Dot)                     (None, 156, 6)       0           sequential_1[0][0]               \n",
      "                                                                 sequential_4[0][0]               \n",
      "__________________________________________________________________________________________________\n",
      "activation_1 (Activation)       (None, 156, 6)       0           dot_1[0][0]                      \n",
      "__________________________________________________________________________________________________\n",
      "sequential_3 (Sequential)       (None, None, 6)      228         input_1[0][0]                    \n",
      "__________________________________________________________________________________________________\n",
      "add_3 (Add)                     (None, 156, 6)       0           activation_1[0][0]               \n",
      "                                                                 sequential_3[0][0]               \n",
      "__________________________________________________________________________________________________\n",
      "permute_3 (Permute)             (None, 6, 156)       0           add_3[0][0]                      \n",
      "__________________________________________________________________________________________________\n",
      "concatenate_1 (Concatenate)     (None, 6, 220)       0           permute_3[0][0]                  \n",
      "                                                                 sequential_4[0][0]               \n",
      "__________________________________________________________________________________________________\n",
      "lstm_1 (LSTM)                   (None, 32)           32384       concatenate_1[0][0]              \n",
      "__________________________________________________________________________________________________\n",
      "dropout_6 (Dropout)             (None, 32)           0           lstm_1[0][0]                     \n",
      "__________________________________________________________________________________________________\n",
      "dense_1 (Dense)                 (None, 38)           1254        dropout_6[0][0]                  \n",
      "__________________________________________________________________________________________________\n",
      "activation_3 (Activation)       (None, 38)           0           dense_1[0][0]                    \n",
      "==================================================================================================\n",
      "Total params: 38,730\n",
      "Trainable params: 38,730\n",
      "Non-trainable params: 0\n",
      "__________________________________________________________________________________________________\n"
     ]
    }
   ],
   "source": [
    "# Now everything is ready.Let's arrange them to create our model.\n",
    "model = Model([statement_sequence,question_sequence],prediction)\n",
    "\n",
    "model.compile(optimizer='rmsprop',loss='categorical_crossentropy',metrics=['accuracy'])\n",
    "\n",
    "model.summary()"
   ]
  },
  {
   "cell_type": "code",
   "execution_count": 85,
   "metadata": {},
   "outputs": [
    {
     "name": "stdout",
     "output_type": "stream",
     "text": [
      "Epoch 1/150\n",
      "313/313 [==============================] - 23s 31ms/step - loss: 0.9018 - accuracy: 0.5063 - val_loss: 0.7022 - val_accuracy: 0.4970\n",
      "Epoch 2/150\n",
      "313/313 [==============================] - 8s 26ms/step - loss: 0.7053 - accuracy: 0.5024 - val_loss: 0.6932 - val_accuracy: 0.5030\n",
      "Epoch 3/150\n",
      "313/313 [==============================] - 8s 24ms/step - loss: 0.6960 - accuracy: 0.4975 - val_loss: 0.6952 - val_accuracy: 0.4970\n",
      "Epoch 4/150\n",
      "313/313 [==============================] - 7s 22ms/step - loss: 0.6956 - accuracy: 0.4986 - val_loss: 0.6933 - val_accuracy: 0.4970\n",
      "Epoch 5/150\n",
      "313/313 [==============================] - 6s 20ms/step - loss: 0.6937 - accuracy: 0.5119 - val_loss: 0.6934 - val_accuracy: 0.4970\n",
      "Epoch 6/150\n",
      "313/313 [==============================] - 7s 22ms/step - loss: 0.6951 - accuracy: 0.5002 - val_loss: 0.6932 - val_accuracy: 0.5030\n",
      "Epoch 7/150\n",
      "313/313 [==============================] - 6s 20ms/step - loss: 0.6938 - accuracy: 0.5078 - val_loss: 0.6941 - val_accuracy: 0.4970\n",
      "Epoch 8/150\n",
      "313/313 [==============================] - 8s 26ms/step - loss: 0.6937 - accuracy: 0.5056 - val_loss: 0.6963 - val_accuracy: 0.5030\n",
      "Epoch 9/150\n",
      "313/313 [==============================] - 7s 23ms/step - loss: 0.6944 - accuracy: 0.5051 - val_loss: 0.6943 - val_accuracy: 0.4830\n",
      "Epoch 10/150\n",
      "313/313 [==============================] - 8s 24ms/step - loss: 0.6945 - accuracy: 0.4986 - val_loss: 0.6951 - val_accuracy: 0.4970\n",
      "Epoch 11/150\n",
      "313/313 [==============================] - 7s 24ms/step - loss: 0.6941 - accuracy: 0.5040 - val_loss: 0.6982 - val_accuracy: 0.4970\n",
      "Epoch 12/150\n",
      "313/313 [==============================] - 7s 24ms/step - loss: 0.6937 - accuracy: 0.5076 - val_loss: 0.6948 - val_accuracy: 0.4960\n",
      "Epoch 13/150\n",
      "313/313 [==============================] - 8s 24ms/step - loss: 0.6928 - accuracy: 0.5184 - val_loss: 0.6947 - val_accuracy: 0.5080\n",
      "Epoch 14/150\n",
      "313/313 [==============================] - 8s 24ms/step - loss: 0.6904 - accuracy: 0.5284 - val_loss: 0.6944 - val_accuracy: 0.5230\n",
      "Epoch 15/150\n",
      "313/313 [==============================] - 8s 25ms/step - loss: 0.6653 - accuracy: 0.5951 - val_loss: 0.6415 - val_accuracy: 0.6280\n",
      "Epoch 16/150\n",
      "313/313 [==============================] - 8s 25ms/step - loss: 0.6347 - accuracy: 0.6439 - val_loss: 0.6299 - val_accuracy: 0.6440\n",
      "Epoch 17/150\n",
      "313/313 [==============================] - 9s 27ms/step - loss: 0.6202 - accuracy: 0.6568 - val_loss: 0.6157 - val_accuracy: 0.6660\n",
      "Epoch 18/150\n",
      "313/313 [==============================] - 8s 24ms/step - loss: 0.6115 - accuracy: 0.6749 - val_loss: 0.6066 - val_accuracy: 0.6690\n",
      "Epoch 19/150\n",
      "313/313 [==============================] - 8s 25ms/step - loss: 0.5958 - accuracy: 0.6887 - val_loss: 0.5991 - val_accuracy: 0.6810\n",
      "Epoch 20/150\n",
      "313/313 [==============================] - 8s 24ms/step - loss: 0.5895 - accuracy: 0.6924 - val_loss: 0.5841 - val_accuracy: 0.6950\n",
      "Epoch 21/150\n",
      "313/313 [==============================] - 8s 25ms/step - loss: 0.5761 - accuracy: 0.7088 - val_loss: 0.6076 - val_accuracy: 0.6810\n",
      "Epoch 22/150\n",
      "313/313 [==============================] - 7s 24ms/step - loss: 0.5686 - accuracy: 0.7173 - val_loss: 0.5787 - val_accuracy: 0.6980\n",
      "Epoch 23/150\n",
      "313/313 [==============================] - 8s 25ms/step - loss: 0.5530 - accuracy: 0.7201 - val_loss: 0.5588 - val_accuracy: 0.7210\n",
      "Epoch 24/150\n",
      "313/313 [==============================] - 7s 23ms/step - loss: 0.5493 - accuracy: 0.7317 - val_loss: 0.5524 - val_accuracy: 0.7280\n",
      "Epoch 25/150\n",
      "313/313 [==============================] - 8s 25ms/step - loss: 0.5352 - accuracy: 0.7434 - val_loss: 0.5700 - val_accuracy: 0.7160\n",
      "Epoch 26/150\n",
      "313/313 [==============================] - 7s 23ms/step - loss: 0.5302 - accuracy: 0.7397 - val_loss: 0.5369 - val_accuracy: 0.7390\n",
      "Epoch 27/150\n",
      "313/313 [==============================] - 8s 25ms/step - loss: 0.5196 - accuracy: 0.7492 - val_loss: 0.5302 - val_accuracy: 0.7430\n",
      "Epoch 28/150\n",
      "313/313 [==============================] - 7s 24ms/step - loss: 0.5109 - accuracy: 0.7558 - val_loss: 0.5124 - val_accuracy: 0.7460\n",
      "Epoch 29/150\n",
      "313/313 [==============================] - 8s 25ms/step - loss: 0.4997 - accuracy: 0.7592 - val_loss: 0.4984 - val_accuracy: 0.7560\n",
      "Epoch 30/150\n",
      "313/313 [==============================] - 8s 25ms/step - loss: 0.4955 - accuracy: 0.7628 - val_loss: 0.4982 - val_accuracy: 0.7490\n",
      "Epoch 31/150\n",
      "313/313 [==============================] - 8s 26ms/step - loss: 0.4950 - accuracy: 0.7633 - val_loss: 0.4868 - val_accuracy: 0.7560\n",
      "Epoch 32/150\n",
      "313/313 [==============================] - 8s 24ms/step - loss: 0.4842 - accuracy: 0.7640 - val_loss: 0.5117 - val_accuracy: 0.7440\n",
      "Epoch 33/150\n",
      "313/313 [==============================] - 8s 27ms/step - loss: 0.4855 - accuracy: 0.7721 - val_loss: 0.4877 - val_accuracy: 0.7580\n",
      "Epoch 34/150\n",
      "313/313 [==============================] - 8s 24ms/step - loss: 0.4800 - accuracy: 0.7721 - val_loss: 0.4810 - val_accuracy: 0.7580\n",
      "Epoch 35/150\n",
      "313/313 [==============================] - 8s 25ms/step - loss: 0.4750 - accuracy: 0.7763 - val_loss: 0.4631 - val_accuracy: 0.7600\n",
      "Epoch 36/150\n",
      "313/313 [==============================] - 7s 23ms/step - loss: 0.4766 - accuracy: 0.7739 - val_loss: 0.4721 - val_accuracy: 0.7620\n",
      "Epoch 37/150\n",
      "313/313 [==============================] - 7s 24ms/step - loss: 0.4612 - accuracy: 0.7820 - val_loss: 0.4582 - val_accuracy: 0.7650\n",
      "Epoch 38/150\n",
      "313/313 [==============================] - 7s 23ms/step - loss: 0.4620 - accuracy: 0.7863 - val_loss: 0.4644 - val_accuracy: 0.7630\n",
      "Epoch 39/150\n",
      "313/313 [==============================] - 7s 23ms/step - loss: 0.4567 - accuracy: 0.7852 - val_loss: 0.4512 - val_accuracy: 0.7640\n",
      "Epoch 40/150\n",
      "313/313 [==============================] - 7s 23ms/step - loss: 0.4476 - accuracy: 0.7919 - val_loss: 0.4579 - val_accuracy: 0.7780\n",
      "Epoch 41/150\n",
      "313/313 [==============================] - 7s 23ms/step - loss: 0.4427 - accuracy: 0.7934 - val_loss: 0.4339 - val_accuracy: 0.7890\n",
      "Epoch 42/150\n",
      "313/313 [==============================] - 7s 24ms/step - loss: 0.4363 - accuracy: 0.8023 - val_loss: 0.4336 - val_accuracy: 0.7900\n",
      "Epoch 43/150\n",
      "313/313 [==============================] - 7s 22ms/step - loss: 0.4363 - accuracy: 0.7974 - val_loss: 0.4217 - val_accuracy: 0.8020\n",
      "Epoch 44/150\n",
      "313/313 [==============================] - 8s 24ms/step - loss: 0.4253 - accuracy: 0.8081 - val_loss: 0.4322 - val_accuracy: 0.7910\n",
      "Epoch 45/150\n",
      "313/313 [==============================] - ETA: 0s - loss: 0.4162 - accuracy: 0.81 - 7s 23ms/step - loss: 0.4162 - accuracy: 0.8101 - val_loss: 0.4227 - val_accuracy: 0.8000\n",
      "Epoch 46/150\n",
      "313/313 [==============================] - 8s 24ms/step - loss: 0.4116 - accuracy: 0.8153 - val_loss: 0.4170 - val_accuracy: 0.8010\n",
      "Epoch 47/150\n",
      "313/313 [==============================] - 7s 23ms/step - loss: 0.4097 - accuracy: 0.8183 - val_loss: 0.4243 - val_accuracy: 0.7960\n",
      "Epoch 48/150\n",
      "313/313 [==============================] - 8s 24ms/step - loss: 0.4024 - accuracy: 0.8194 - val_loss: 0.4189 - val_accuracy: 0.7940\n",
      "Epoch 49/150\n",
      "313/313 [==============================] - 7s 23ms/step - loss: 0.4063 - accuracy: 0.8160 - val_loss: 0.4175 - val_accuracy: 0.8060\n",
      "Epoch 50/150\n",
      "313/313 [==============================] - 7s 24ms/step - loss: 0.3970 - accuracy: 0.8244 - val_loss: 0.4172 - val_accuracy: 0.8160A: 0s - loss: 0.3976 - ac\n",
      "Epoch 51/150\n",
      "313/313 [==============================] - 7s 23ms/step - loss: 0.3914 - accuracy: 0.8272 - val_loss: 0.4124 - val_accuracy: 0.8130\n",
      "Epoch 52/150\n",
      "313/313 [==============================] - 7s 23ms/step - loss: 0.3932 - accuracy: 0.8239 - val_loss: 0.4109 - val_accuracy: 0.8100\n",
      "Epoch 53/150\n",
      "313/313 [==============================] - 7s 24ms/step - loss: 0.3857 - accuracy: 0.8260 - val_loss: 0.4085 - val_accuracy: 0.8110\n",
      "Epoch 54/150\n",
      "313/313 [==============================] - 7s 23ms/step - loss: 0.3754 - accuracy: 0.8325 - val_loss: 0.4037 - val_accuracy: 0.8110\n",
      "Epoch 55/150\n",
      "313/313 [==============================] - 8s 25ms/step - loss: 0.3758 - accuracy: 0.8366 - val_loss: 0.4140 - val_accuracy: 0.8140\n",
      "Epoch 56/150\n",
      "313/313 [==============================] - 7s 23ms/step - loss: 0.3734 - accuracy: 0.8334 - val_loss: 0.3901 - val_accuracy: 0.8130\n",
      "Epoch 57/150\n"
     ]
    },
    {
     "name": "stdout",
     "output_type": "stream",
     "text": [
      "313/313 [==============================] - 7s 23ms/step - loss: 0.3705 - accuracy: 0.8341 - val_loss: 0.3943 - val_accuracy: 0.8230\n",
      "Epoch 58/150\n",
      "313/313 [==============================] - 7s 22ms/step - loss: 0.3690 - accuracy: 0.8372 - val_loss: 0.4237 - val_accuracy: 0.8040\n",
      "Epoch 59/150\n",
      "313/313 [==============================] - 7s 24ms/step - loss: 0.3698 - accuracy: 0.8384 - val_loss: 0.3932 - val_accuracy: 0.8210\n",
      "Epoch 60/150\n",
      "313/313 [==============================] - 7s 22ms/step - loss: 0.3637 - accuracy: 0.8419 - val_loss: 0.3989 - val_accuracy: 0.8240\n",
      "Epoch 61/150\n",
      "313/313 [==============================] - 7s 23ms/step - loss: 0.3646 - accuracy: 0.8452 - val_loss: 0.4075 - val_accuracy: 0.8120\n",
      "Epoch 62/150\n",
      "313/313 [==============================] - 7s 23ms/step - loss: 0.3550 - accuracy: 0.8433 - val_loss: 0.4389 - val_accuracy: 0.8220\n",
      "Epoch 63/150\n",
      "313/313 [==============================] - 7s 23ms/step - loss: 0.3619 - accuracy: 0.8404 - val_loss: 0.3940 - val_accuracy: 0.8180\n",
      "Epoch 64/150\n",
      "313/313 [==============================] - 7s 23ms/step - loss: 0.3579 - accuracy: 0.8438 - val_loss: 0.3921 - val_accuracy: 0.8230\n",
      "Epoch 65/150\n",
      "313/313 [==============================] - 7s 22ms/step - loss: 0.3563 - accuracy: 0.8449 - val_loss: 0.4104 - val_accuracy: 0.8150\n",
      "Epoch 66/150\n",
      "313/313 [==============================] - 7s 24ms/step - loss: 0.3410 - accuracy: 0.8521 - val_loss: 0.3915 - val_accuracy: 0.8260\n",
      "Epoch 67/150\n",
      "313/313 [==============================] - 7s 23ms/step - loss: 0.3541 - accuracy: 0.8489 - val_loss: 0.3945 - val_accuracy: 0.8240\n",
      "Epoch 68/150\n",
      "313/313 [==============================] - 7s 24ms/step - loss: 0.3472 - accuracy: 0.8486 - val_loss: 0.3968 - val_accuracy: 0.8190\n",
      "Epoch 69/150\n",
      "313/313 [==============================] - 7s 23ms/step - loss: 0.3471 - accuracy: 0.8532 - val_loss: 0.4083 - val_accuracy: 0.8060\n",
      "Epoch 70/150\n",
      "313/313 [==============================] - 7s 24ms/step - loss: 0.3456 - accuracy: 0.8506 - val_loss: 0.4162 - val_accuracy: 0.8140\n",
      "Epoch 71/150\n",
      "313/313 [==============================] - 7s 23ms/step - loss: 0.3484 - accuracy: 0.8458 - val_loss: 0.4118 - val_accuracy: 0.8340\n",
      "Epoch 72/150\n",
      "313/313 [==============================] - 7s 23ms/step - loss: 0.3417 - accuracy: 0.8534 - val_loss: 0.3911 - val_accuracy: 0.8220\n",
      "Epoch 73/150\n",
      "313/313 [==============================] - 7s 23ms/step - loss: 0.3432 - accuracy: 0.8528 - val_loss: 0.3985 - val_accuracy: 0.8260\n",
      "Epoch 74/150\n",
      "313/313 [==============================] - 7s 23ms/step - loss: 0.3414 - accuracy: 0.8536 - val_loss: 0.4045 - val_accuracy: 0.8210\n",
      "Epoch 75/150\n",
      "313/313 [==============================] - 8s 24ms/step - loss: 0.3386 - accuracy: 0.8521 - val_loss: 0.3978 - val_accuracy: 0.8180\n",
      "Epoch 76/150\n",
      "313/313 [==============================] - 8s 24ms/step - loss: 0.3304 - accuracy: 0.8580 - val_loss: 0.4027 - val_accuracy: 0.8190\n",
      "Epoch 77/150\n",
      "313/313 [==============================] - 8s 25ms/step - loss: 0.3374 - accuracy: 0.8556 - val_loss: 0.4026 - val_accuracy: 0.8240\n",
      "Epoch 78/150\n",
      "313/313 [==============================] - 7s 23ms/step - loss: 0.3360 - accuracy: 0.8580 - val_loss: 0.3983 - val_accuracy: 0.8230\n",
      "Epoch 79/150\n",
      "313/313 [==============================] - 8s 25ms/step - loss: 0.3268 - accuracy: 0.8591 - val_loss: 0.4045 - val_accuracy: 0.8260\n",
      "Epoch 80/150\n",
      "313/313 [==============================] - 7s 24ms/step - loss: 0.3343 - accuracy: 0.8573 - val_loss: 0.3981 - val_accuracy: 0.8220\n",
      "Epoch 81/150\n",
      "313/313 [==============================] - 8s 25ms/step - loss: 0.3297 - accuracy: 0.8570 - val_loss: 0.4018 - val_accuracy: 0.8240\n",
      "Epoch 82/150\n",
      "313/313 [==============================] - 7s 23ms/step - loss: 0.3265 - accuracy: 0.8624 - val_loss: 0.4290 - val_accuracy: 0.8130\n",
      "Epoch 83/150\n",
      "313/313 [==============================] - 8s 25ms/step - loss: 0.3277 - accuracy: 0.8599 - val_loss: 0.4116 - val_accuracy: 0.8270\n",
      "Epoch 84/150\n",
      "313/313 [==============================] - 7s 24ms/step - loss: 0.3250 - accuracy: 0.8599 - val_loss: 0.4041 - val_accuracy: 0.8190\n",
      "Epoch 85/150\n",
      "313/313 [==============================] - 8s 24ms/step - loss: 0.3231 - accuracy: 0.8606 - val_loss: 0.4080 - val_accuracy: 0.8280\n",
      "Epoch 86/150\n",
      "313/313 [==============================] - 7s 23ms/step - loss: 0.3205 - accuracy: 0.8609 - val_loss: 0.4066 - val_accuracy: 0.8190\n",
      "Epoch 87/150\n",
      "313/313 [==============================] - 8s 24ms/step - loss: 0.3240 - accuracy: 0.8608 - val_loss: 0.4060 - val_accuracy: 0.8220\n",
      "Epoch 88/150\n",
      "313/313 [==============================] - 8s 24ms/step - loss: 0.3196 - accuracy: 0.8618 - val_loss: 0.4030 - val_accuracy: 0.8180\n",
      "Epoch 89/150\n",
      "313/313 [==============================] - 7s 23ms/step - loss: 0.3254 - accuracy: 0.8580 - val_loss: 0.4183 - val_accuracy: 0.8180\n",
      "Epoch 90/150\n",
      "313/313 [==============================] - 8s 25ms/step - loss: 0.3145 - accuracy: 0.8650 - val_loss: 0.4001 - val_accuracy: 0.8250\n",
      "Epoch 91/150\n",
      "313/313 [==============================] - 7s 23ms/step - loss: 0.3225 - accuracy: 0.8634 - val_loss: 0.4163 - val_accuracy: 0.8210\n",
      "Epoch 92/150\n",
      "313/313 [==============================] - 8s 25ms/step - loss: 0.3169 - accuracy: 0.8660 - val_loss: 0.4135 - val_accuracy: 0.8330\n",
      "Epoch 93/150\n",
      "313/313 [==============================] - 7s 23ms/step - loss: 0.3057 - accuracy: 0.8707 - val_loss: 0.4291 - val_accuracy: 0.8230\n",
      "Epoch 94/150\n",
      "313/313 [==============================] - 8s 25ms/step - loss: 0.3113 - accuracy: 0.8687 - val_loss: 0.4089 - val_accuracy: 0.8310\n",
      "Epoch 95/150\n",
      "313/313 [==============================] - 7s 23ms/step - loss: 0.3114 - accuracy: 0.8641 - val_loss: 0.4056 - val_accuracy: 0.8210\n",
      "Epoch 96/150\n",
      "313/313 [==============================] - 8s 26ms/step - loss: 0.3119 - accuracy: 0.8676 - val_loss: 0.4052 - val_accuracy: 0.8260\n",
      "Epoch 97/150\n",
      "313/313 [==============================] - 7s 23ms/step - loss: 0.3026 - accuracy: 0.8724 - val_loss: 0.4352 - val_accuracy: 0.8190\n",
      "Epoch 98/150\n",
      "313/313 [==============================] - 8s 24ms/step - loss: 0.3104 - accuracy: 0.8633 - val_loss: 0.4303 - val_accuracy: 0.8180\n",
      "Epoch 99/150\n",
      "313/313 [==============================] - 7s 23ms/step - loss: 0.3076 - accuracy: 0.8690 - val_loss: 0.4194 - val_accuracy: 0.8180\n",
      "Epoch 100/150\n",
      "313/313 [==============================] - 8s 25ms/step - loss: 0.3015 - accuracy: 0.8698 - val_loss: 0.4274 - val_accuracy: 0.8220\n",
      "Epoch 101/150\n",
      "313/313 [==============================] - 8s 24ms/step - loss: 0.3009 - accuracy: 0.8732 - val_loss: 0.4214 - val_accuracy: 0.8210\n",
      "Epoch 102/150\n",
      "313/313 [==============================] - 8s 24ms/step - loss: 0.3077 - accuracy: 0.8713 - val_loss: 0.4144 - val_accuracy: 0.8210\n",
      "Epoch 103/150\n",
      "313/313 [==============================] - 8s 24ms/step - loss: 0.2996 - accuracy: 0.8756 - val_loss: 0.4127 - val_accuracy: 0.8240\n",
      "Epoch 104/150\n",
      "313/313 [==============================] - 8s 24ms/step - loss: 0.3001 - accuracy: 0.8728 - val_loss: 0.4120 - val_accuracy: 0.8190\n",
      "Epoch 105/150\n",
      "313/313 [==============================] - 8s 24ms/step - loss: 0.3051 - accuracy: 0.8730 - val_loss: 0.4127 - val_accuracy: 0.8230\n",
      "Epoch 106/150\n",
      "313/313 [==============================] - 7s 24ms/step - loss: 0.3059 - accuracy: 0.8740 - val_loss: 0.4207 - val_accuracy: 0.8230\n",
      "Epoch 107/150\n",
      "313/313 [==============================] - 8s 25ms/step - loss: 0.2965 - accuracy: 0.8742 - val_loss: 0.4326 - val_accuracy: 0.8190\n",
      "Epoch 108/150\n",
      "313/313 [==============================] - 7s 23ms/step - loss: 0.2941 - accuracy: 0.8770 - val_loss: 0.4289 - val_accuracy: 0.8150\n",
      "Epoch 109/150\n",
      "313/313 [==============================] - 8s 25ms/step - loss: 0.2966 - accuracy: 0.8760 - val_loss: 0.4202 - val_accuracy: 0.8180\n",
      "Epoch 110/150\n",
      "313/313 [==============================] - 7s 23ms/step - loss: 0.3009 - accuracy: 0.8763 - val_loss: 0.4257 - val_accuracy: 0.8130\n",
      "Epoch 111/150\n",
      "313/313 [==============================] - 8s 25ms/step - loss: 0.2931 - accuracy: 0.8795 - val_loss: 0.4326 - val_accuracy: 0.8200\n",
      "Epoch 112/150\n",
      "313/313 [==============================] - 7s 23ms/step - loss: 0.2957 - accuracy: 0.8802 - val_loss: 0.4149 - val_accuracy: 0.8210\n",
      "Epoch 113/150\n"
     ]
    },
    {
     "name": "stdout",
     "output_type": "stream",
     "text": [
      "313/313 [==============================] - 7s 24ms/step - loss: 0.2983 - accuracy: 0.8748 - val_loss: 0.4108 - val_accuracy: 0.8260\n",
      "Epoch 114/150\n",
      "313/313 [==============================] - 7s 23ms/step - loss: 0.2916 - accuracy: 0.8776 - val_loss: 0.4199 - val_accuracy: 0.8220\n",
      "Epoch 115/150\n",
      "313/313 [==============================] - 8s 24ms/step - loss: 0.2942 - accuracy: 0.8760 - val_loss: 0.4251 - val_accuracy: 0.8260\n",
      "Epoch 116/150\n",
      "313/313 [==============================] - 7s 22ms/step - loss: 0.2834 - accuracy: 0.8808 - val_loss: 0.4447 - val_accuracy: 0.8200\n",
      "Epoch 117/150\n",
      "313/313 [==============================] - 7s 23ms/step - loss: 0.2875 - accuracy: 0.8798 - val_loss: 0.4222 - val_accuracy: 0.8210\n",
      "Epoch 118/150\n",
      "313/313 [==============================] - 7s 23ms/step - loss: 0.2879 - accuracy: 0.8784 - val_loss: 0.4270 - val_accuracy: 0.8130\n",
      "Epoch 119/150\n",
      "313/313 [==============================] - 7s 23ms/step - loss: 0.2828 - accuracy: 0.8815 - val_loss: 0.4147 - val_accuracy: 0.8230\n",
      "Epoch 120/150\n",
      "313/313 [==============================] - 7s 23ms/step - loss: 0.2884 - accuracy: 0.8774 - val_loss: 0.4378 - val_accuracy: 0.8250\n",
      "Epoch 121/150\n",
      "313/313 [==============================] - 7s 22ms/step - loss: 0.2836 - accuracy: 0.8814 - val_loss: 0.4373 - val_accuracy: 0.8250\n",
      "Epoch 122/150\n",
      "313/313 [==============================] - 7s 24ms/step - loss: 0.2811 - accuracy: 0.8806 - val_loss: 0.4429 - val_accuracy: 0.8260\n",
      "Epoch 123/150\n",
      "313/313 [==============================] - 7s 22ms/step - loss: 0.2801 - accuracy: 0.8839 - val_loss: 0.4465 - val_accuracy: 0.8220\n",
      "Epoch 124/150\n",
      "313/313 [==============================] - 7s 24ms/step - loss: 0.2834 - accuracy: 0.8828 - val_loss: 0.4413 - val_accuracy: 0.8190\n",
      "Epoch 125/150\n",
      "313/313 [==============================] - 7s 23ms/step - loss: 0.2807 - accuracy: 0.8821 - val_loss: 0.4485 - val_accuracy: 0.8230\n",
      "Epoch 126/150\n",
      "313/313 [==============================] - 7s 23ms/step - loss: 0.2806 - accuracy: 0.8854 - val_loss: 0.4423 - val_accuracy: 0.8190\n",
      "Epoch 127/150\n",
      "313/313 [==============================] - 7s 22ms/step - loss: 0.2802 - accuracy: 0.8807 - val_loss: 0.4362 - val_accuracy: 0.8150\n",
      "Epoch 128/150\n",
      "313/313 [==============================] - 7s 23ms/step - loss: 0.2768 - accuracy: 0.8891 - val_loss: 0.4504 - val_accuracy: 0.8140\n",
      "Epoch 129/150\n",
      "313/313 [==============================] - 7s 23ms/step - loss: 0.2794 - accuracy: 0.8817 - val_loss: 0.4393 - val_accuracy: 0.8230\n",
      "Epoch 130/150\n",
      "313/313 [==============================] - 7s 23ms/step - loss: 0.2770 - accuracy: 0.8864 - val_loss: 0.4701 - val_accuracy: 0.8140\n",
      "Epoch 131/150\n",
      "313/313 [==============================] - 7s 23ms/step - loss: 0.2720 - accuracy: 0.8891 - val_loss: 0.4601 - val_accuracy: 0.8220\n",
      "Epoch 132/150\n",
      "313/313 [==============================] - 7s 22ms/step - loss: 0.2723 - accuracy: 0.8851 - val_loss: 0.4520 - val_accuracy: 0.8180\n",
      "Epoch 133/150\n",
      "313/313 [==============================] - 7s 24ms/step - loss: 0.2745 - accuracy: 0.8847 - val_loss: 0.4732 - val_accuracy: 0.8200\n",
      "Epoch 134/150\n",
      "313/313 [==============================] - 7s 22ms/step - loss: 0.2755 - accuracy: 0.8867 - val_loss: 0.4475 - val_accuracy: 0.8180\n",
      "Epoch 135/150\n",
      "313/313 [==============================] - 7s 24ms/step - loss: 0.2746 - accuracy: 0.8877 - val_loss: 0.4286 - val_accuracy: 0.8180\n",
      "Epoch 136/150\n",
      "313/313 [==============================] - 7s 23ms/step - loss: 0.2722 - accuracy: 0.8868 - val_loss: 0.4569 - val_accuracy: 0.8170\n",
      "Epoch 137/150\n",
      "313/313 [==============================] - 8s 24ms/step - loss: 0.2668 - accuracy: 0.8899 - val_loss: 0.4314 - val_accuracy: 0.8210\n",
      "Epoch 138/150\n",
      "313/313 [==============================] - 8s 26ms/step - loss: 0.2704 - accuracy: 0.8883 - val_loss: 0.4426 - val_accuracy: 0.8180\n",
      "Epoch 139/150\n",
      "313/313 [==============================] - 7s 24ms/step - loss: 0.2690 - accuracy: 0.8887 - val_loss: 0.4489 - val_accuracy: 0.8210\n",
      "Epoch 140/150\n",
      "313/313 [==============================] - 7s 23ms/step - loss: 0.2711 - accuracy: 0.8871 - val_loss: 0.4651 - val_accuracy: 0.8180\n",
      "Epoch 141/150\n",
      "313/313 [==============================] - 7s 23ms/step - loss: 0.2686 - accuracy: 0.8912 - val_loss: 0.4530 - val_accuracy: 0.8080\n",
      "Epoch 142/150\n",
      "313/313 [==============================] - 8s 24ms/step - loss: 0.2703 - accuracy: 0.8885 - val_loss: 0.4338 - val_accuracy: 0.8210\n",
      "Epoch 143/150\n",
      "313/313 [==============================] - 7s 23ms/step - loss: 0.2706 - accuracy: 0.8896 - val_loss: 0.4699 - val_accuracy: 0.8180\n",
      "Epoch 144/150\n",
      "313/313 [==============================] - 7s 24ms/step - loss: 0.2734 - accuracy: 0.8847 - val_loss: 0.4564 - val_accuracy: 0.8170\n",
      "Epoch 145/150\n",
      "313/313 [==============================] - 7s 22ms/step - loss: 0.2667 - accuracy: 0.8893 - val_loss: 0.4353 - val_accuracy: 0.8160\n",
      "Epoch 146/150\n",
      "313/313 [==============================] - 8s 24ms/step - loss: 0.2721 - accuracy: 0.8890 - val_loss: 0.4621 - val_accuracy: 0.8170\n",
      "Epoch 147/150\n",
      "313/313 [==============================] - 7s 22ms/step - loss: 0.2635 - accuracy: 0.8874 - val_loss: 0.4611 - val_accuracy: 0.8140\n",
      "Epoch 148/150\n",
      "313/313 [==============================] - 7s 24ms/step - loss: 0.2627 - accuracy: 0.8908 - val_loss: 0.4831 - val_accuracy: 0.8170\n",
      "Epoch 149/150\n",
      "313/313 [==============================] - 7s 23ms/step - loss: 0.2612 - accuracy: 0.8914 - val_loss: 0.4641 - val_accuracy: 0.8120\n",
      "Epoch 150/150\n",
      "313/313 [==============================] - 8s 24ms/step - loss: 0.2666 - accuracy: 0.8904 - val_loss: 0.4688 - val_accuracy: 0.8110\n"
     ]
    },
    {
     "data": {
      "text/plain": [
       "<tensorflow.python.keras.callbacks.History at 0x20ac553a1c0>"
      ]
     },
     "execution_count": 85,
     "metadata": {},
     "output_type": "execute_result"
    }
   ],
   "source": [
    "# Let's fit our model. We will use 32 as batch size,epochs=150\n",
    "model.fit([train_statements,train_questions],train_answers,batch_size=32,epochs = 150,validation_data = ([test_statements,test_questions],test_answers))"
   ]
  },
  {
   "cell_type": "code",
   "execution_count": 86,
   "metadata": {},
   "outputs": [
    {
     "data": {
      "text/html": [
       "<div>\n",
       "<style scoped>\n",
       "    .dataframe tbody tr th:only-of-type {\n",
       "        vertical-align: middle;\n",
       "    }\n",
       "\n",
       "    .dataframe tbody tr th {\n",
       "        vertical-align: top;\n",
       "    }\n",
       "\n",
       "    .dataframe thead th {\n",
       "        text-align: right;\n",
       "    }\n",
       "</style>\n",
       "<table border=\"1\" class=\"dataframe\">\n",
       "  <thead>\n",
       "    <tr style=\"text-align: right;\">\n",
       "      <th></th>\n",
       "      <th>loss</th>\n",
       "      <th>accuracy</th>\n",
       "      <th>val_loss</th>\n",
       "      <th>val_accuracy</th>\n",
       "    </tr>\n",
       "  </thead>\n",
       "  <tbody>\n",
       "    <tr>\n",
       "      <th>0</th>\n",
       "      <td>0.901824</td>\n",
       "      <td>0.5063</td>\n",
       "      <td>0.702210</td>\n",
       "      <td>0.497</td>\n",
       "    </tr>\n",
       "    <tr>\n",
       "      <th>1</th>\n",
       "      <td>0.705324</td>\n",
       "      <td>0.5024</td>\n",
       "      <td>0.693224</td>\n",
       "      <td>0.503</td>\n",
       "    </tr>\n",
       "    <tr>\n",
       "      <th>2</th>\n",
       "      <td>0.696025</td>\n",
       "      <td>0.4975</td>\n",
       "      <td>0.695179</td>\n",
       "      <td>0.497</td>\n",
       "    </tr>\n",
       "    <tr>\n",
       "      <th>3</th>\n",
       "      <td>0.695556</td>\n",
       "      <td>0.4986</td>\n",
       "      <td>0.693308</td>\n",
       "      <td>0.497</td>\n",
       "    </tr>\n",
       "    <tr>\n",
       "      <th>4</th>\n",
       "      <td>0.693650</td>\n",
       "      <td>0.5119</td>\n",
       "      <td>0.693446</td>\n",
       "      <td>0.497</td>\n",
       "    </tr>\n",
       "  </tbody>\n",
       "</table>\n",
       "</div>"
      ],
      "text/plain": [
       "       loss  accuracy  val_loss  val_accuracy\n",
       "0  0.901824    0.5063  0.702210         0.497\n",
       "1  0.705324    0.5024  0.693224         0.503\n",
       "2  0.696025    0.4975  0.695179         0.497\n",
       "3  0.695556    0.4986  0.693308         0.497\n",
       "4  0.693650    0.5119  0.693446         0.497"
      ]
     },
     "execution_count": 86,
     "metadata": {},
     "output_type": "execute_result"
    }
   ],
   "source": [
    "# EVALUATION\n",
    "metrics = pd.DataFrame(model.history.history)\n",
    "\n",
    "metrics.head()"
   ]
  },
  {
   "cell_type": "code",
   "execution_count": 87,
   "metadata": {},
   "outputs": [
    {
     "data": {
      "text/plain": [
       "<AxesSubplot:>"
      ]
     },
     "execution_count": 87,
     "metadata": {},
     "output_type": "execute_result"
    },
    {
     "data": {
      "image/png": "[encoded data removed]",
      "text/plain": [
       "<Figure size 432x288 with 1 Axes>"
      ]
     },
     "metadata": {
      "needs_background": "light"
     },
     "output_type": "display_data"
    }
   ],
   "source": [
    "metrics[['loss','val_loss']].plot()"
   ]
  },
  {
   "cell_type": "code",
   "execution_count": 88,
   "metadata": {},
   "outputs": [
    {
     "data": {
      "text/plain": [
       "<AxesSubplot:>"
      ]
     },
     "execution_count": 88,
     "metadata": {},
     "output_type": "execute_result"
    },
    {
     "data": {
      "image/png": "[encoded data removed]",
      "text/plain": [
       "<Figure size 432x288 with 1 Axes>"
      ]
     },
     "metadata": {
      "needs_background": "light"
     },
     "output_type": "display_data"
    }
   ],
   "source": [
    "metrics[['accuracy','val_accuracy']].plot()"
   ]
  },
  {
   "cell_type": "code",
   "execution_count": 95,
   "metadata": {},
   "outputs": [],
   "source": [
    "# Let's predict on testing data\n",
    "prediction = model.predict(([test_statements,test_questions]))"
   ]
  },
  {
   "cell_type": "code",
   "execution_count": 96,
   "metadata": {},
   "outputs": [],
   "source": [
    "final_prediction = prediction.argmax(axis=1)"
   ]
  },
  {
   "cell_type": "code",
   "execution_count": 97,
   "metadata": {},
   "outputs": [
    {
     "data": {
      "text/plain": [
       "array([22, 21, 21, 21, 21, 22, 22, 21, 21, 21, 21, 21, 21, 22, 22, 21, 21,\n",
       "       22, 22, 21, 21, 22, 21, 22, 22, 21, 21, 22, 22, 21, 21, 22, 22, 21,\n",
       "       21, 22, 21, 21, 21, 22, 21, 22, 22, 22, 21, 21, 21, 22, 21, 21, 21,\n",
       "       22, 21, 21, 21, 22, 22, 21, 22, 21, 22, 22, 21, 21, 21, 21, 21, 21,\n",
       "       22, 21, 22, 21, 22, 21, 21, 21, 21, 21, 22, 22, 21, 22, 22, 21, 22,\n",
       "       22, 21, 22, 22, 21, 21, 22, 22, 22, 22, 21, 21, 21, 21, 22, 22, 22,\n",
       "       22, 22, 22, 22, 22, 22, 22, 22, 22, 21, 21, 21, 21, 22, 21, 21, 21,\n",
       "       21, 22, 21, 21, 21, 21, 22, 21, 21, 22, 21, 22, 21, 22, 21, 22, 22,\n",
       "       22, 22, 21, 22, 22, 21, 22, 22, 21, 21, 22, 21, 22, 22, 21, 21, 22,\n",
       "       21, 22, 22, 21, 22, 22, 21, 21, 21, 22, 21, 21, 22, 21, 22, 22, 21,\n",
       "       21, 22, 22, 22, 21, 21, 21, 22, 22, 22, 21, 21, 21, 21, 22, 21, 21,\n",
       "       21, 22, 22, 21, 21, 22, 22, 21, 21, 21, 22, 22, 22, 21, 21, 22, 21,\n",
       "       22, 21, 21, 21, 21, 21, 21, 21, 22, 22, 22, 22, 21, 22, 22, 22, 21,\n",
       "       21, 22, 21, 21, 21, 21, 22, 21, 22, 22, 21, 22, 22, 21, 21, 22, 21,\n",
       "       21, 21, 22, 22, 21, 22, 22, 21, 21, 21, 22, 21, 21, 21, 22, 21, 21,\n",
       "       21, 21, 21, 22, 21, 22, 21, 21, 22, 22, 21, 21, 21, 21, 21, 21, 21,\n",
       "       21, 21, 21, 21, 21, 21, 22, 22, 21, 22, 21, 22, 21, 21, 21, 22, 22,\n",
       "       22, 21, 22, 21, 22, 22, 22, 21, 21, 22, 21, 21, 22, 21, 21, 22, 21,\n",
       "       21, 21, 22, 22, 21, 21, 21, 22, 21, 22, 21, 21, 21, 22, 21, 21, 21,\n",
       "       22, 22, 22, 22, 22, 22, 22, 21, 22, 21, 21, 21, 21, 21, 22, 21, 21,\n",
       "       22, 21, 22, 22, 21, 22, 22, 21, 21, 22, 21, 21, 21, 21, 21, 22, 21,\n",
       "       21, 21, 21, 21, 22, 22, 21, 22, 22, 22, 21, 22, 22, 22, 22, 21, 22,\n",
       "       22, 22, 21, 22, 21, 21, 21, 21, 21, 21, 22, 22, 21, 22, 21, 22, 22,\n",
       "       22, 22, 22, 21, 22, 21, 21, 21, 21, 21, 21, 21, 21, 22, 21, 21, 21,\n",
       "       22, 22, 21, 21, 22, 22, 21, 22, 21, 21, 22, 21, 21, 22, 21, 22, 21,\n",
       "       22, 21, 22, 21, 22, 22, 21, 21, 21, 21, 21, 22, 21, 21, 21, 21, 21,\n",
       "       21, 22, 21, 22, 22, 22, 22, 21, 21, 22, 21, 21, 22, 22, 21, 22, 21,\n",
       "       21, 22, 22, 21, 21, 21, 21, 21, 21, 22, 21, 21, 22, 21, 21, 21, 21,\n",
       "       21, 21, 21, 22, 21, 22, 21, 22, 21, 21, 21, 21, 22, 21, 21, 22, 21,\n",
       "       21, 21, 22, 21, 21, 21, 22, 22, 21, 21, 22, 22, 21, 22, 21, 21, 21,\n",
       "       22, 22, 22, 21, 22, 21, 22, 21, 21, 21, 22, 22, 22, 21, 21, 22, 21,\n",
       "       21, 21, 22, 21, 22, 21, 21, 21, 22, 21, 21, 21, 21, 22, 22, 21, 22,\n",
       "       21, 22, 22, 21, 21, 21, 21, 21, 21, 21, 22, 22, 21, 22, 21, 21, 22,\n",
       "       22, 22, 21, 21, 21, 22, 21, 22, 22, 22, 21, 22, 22, 21, 21, 21, 21,\n",
       "       21, 22, 22, 22, 21, 21, 21, 21, 22, 22, 22, 21, 21, 22, 22, 21, 22,\n",
       "       21, 22, 21, 21, 22, 21, 22, 21, 22, 21, 21, 21, 22, 21, 22, 21, 21,\n",
       "       22, 22, 22, 22, 21, 21, 22, 22, 22, 21, 22, 21, 21, 21, 21, 21, 22,\n",
       "       21, 22, 22, 22, 21, 22, 21, 22, 21, 22, 22, 21, 21, 22, 21, 22, 21,\n",
       "       22, 21, 22, 21, 21, 21, 21, 21, 21, 22, 21, 21, 21, 21, 22, 21, 21,\n",
       "       22, 21, 21, 21, 22, 22, 21, 22, 22, 22, 22, 22, 21, 22, 21, 22, 22,\n",
       "       22, 21, 21, 22, 22, 21, 21, 21, 22, 22, 22, 22, 22, 21, 22, 22, 21,\n",
       "       22, 21, 22, 21, 22, 21, 22, 22, 22, 21, 21, 21, 21, 21, 21, 21, 21,\n",
       "       21, 22, 21, 21, 21, 21, 21, 21, 21, 22, 21, 21, 21, 21, 21, 21, 21,\n",
       "       21, 21, 21, 21, 21, 21, 22, 22, 22, 22, 22, 21, 22, 22, 22, 21, 22,\n",
       "       21, 21, 21, 21, 21, 22, 21, 21, 22, 21, 21, 22, 21, 21, 22, 21, 21,\n",
       "       22, 22, 22, 21, 21, 22, 22, 21, 21, 21, 22, 22, 21, 22, 22, 22, 21,\n",
       "       22, 21, 22, 21, 21, 21, 22, 22, 22, 21, 22, 22, 21, 21, 21, 21, 21,\n",
       "       22, 21, 21, 21, 21, 22, 22, 21, 22, 21, 22, 21, 21, 21, 21, 21, 22,\n",
       "       21, 21, 21, 21, 22, 22, 21, 21, 21, 21, 22, 21, 21, 21, 21, 22, 21,\n",
       "       22, 21, 22, 22, 22, 21, 22, 22, 22, 22, 22, 22, 21, 21, 21, 21, 22,\n",
       "       21, 22, 22, 22, 22, 22, 22, 21, 21, 21, 22, 21, 22, 21, 22, 22, 21,\n",
       "       21, 21, 21, 21, 21, 22, 22, 22, 22, 22, 21, 22, 22, 22, 22, 22, 22,\n",
       "       21, 21, 22, 22, 21, 21, 22, 22, 21, 21, 22, 22, 22, 21, 21, 22, 22,\n",
       "       21, 21, 22, 21, 21, 22, 22, 22, 22, 21, 22, 22, 21, 21, 21, 21, 22,\n",
       "       22, 22, 21, 21, 21, 21, 22, 22, 21, 21, 21, 21, 21, 22, 21, 22, 21,\n",
       "       21, 22, 21, 21, 22, 21, 22, 22, 21, 22, 21, 21, 22, 21, 21, 21, 22,\n",
       "       21, 21, 21, 21, 21, 21, 21, 21, 22, 21, 21, 21, 21, 22, 22, 22, 21,\n",
       "       21, 21, 22, 22, 22, 22, 21, 21, 21, 21, 22, 22, 21, 22, 21, 22, 21,\n",
       "       22, 21, 22, 21, 21, 22, 21, 21, 21, 22, 21, 22, 21, 21],\n",
       "      dtype=int64)"
      ]
     },
     "execution_count": 97,
     "metadata": {},
     "output_type": "execute_result"
    }
   ],
   "source": [
    "final_prediction # The index value of Yes or No . If value is 21 then answer is Yes and if the value is 22, the answer is No"
   ]
  },
  {
   "cell_type": "code",
   "execution_count": 98,
   "metadata": {},
   "outputs": [],
   "source": [
    "# Doing the same from test_answers so that we can compare the reult\n",
    "test_answers = test_answers.argmax(axis=1)"
   ]
  },
  {
   "cell_type": "code",
   "execution_count": 99,
   "metadata": {},
   "outputs": [],
   "source": [
    "from sklearn.metrics import classification_report"
   ]
  },
  {
   "cell_type": "code",
   "execution_count": 100,
   "metadata": {
    "scrolled": true
   },
   "outputs": [
    {
     "name": "stdout",
     "output_type": "stream",
     "text": [
      "              precision    recall  f1-score   support\n",
      "\n",
      "          21       0.77      0.89      0.82       497\n",
      "          22       0.87      0.74      0.80       503\n",
      "\n",
      "    accuracy                           0.81      1000\n",
      "   macro avg       0.82      0.81      0.81      1000\n",
      "weighted avg       0.82      0.81      0.81      1000\n",
      "\n"
     ]
    }
   ],
   "source": [
    "print(classification_report(test_answers,final_prediction))"
   ]
  },
  {
   "cell_type": "markdown",
   "metadata": {},
   "source": [
    "**We got the accuracy of 81%**"
   ]
  },
  {
   "cell_type": "code",
   "execution_count": 112,
   "metadata": {},
   "outputs": [],
   "source": [
    "# Let's test it on few test cases\n",
    "# 1:\n",
    "statement = 'John moved to bedroom . Sandra is in the kitchen .'\n",
    "q1 = 'is John in the bedroom ?' # answer should be yes\n",
    "q2 = 'is Sandra in the kitchen ?' # answer should be yes\n",
    "\n",
    "ans1 = 'yes'\n",
    "ans2 = 'yes'\n",
    "\n",
    "# Let's change it to proper format\n",
    "statement = statement.split()\n",
    "q1 = q1.split()\n",
    "q2 = q2.split()\n",
    "\n",
    "data1= [(statement,q1,ans1)]\n",
    "data2 = [(statement,q2,ans2)]\n",
    "\n",
    "# Let's send it to function vectorize\n",
    "statement,question1,answer1 = vectorize(data1)\n",
    "statement,question2,answer2 = vectorize(data2)\n",
    "\n",
    "# Prediction on q1\n",
    "predict_q1 = model.predict([statement,question1])\n",
    "\n",
    "# prediction on q2\n",
    "predict_q2 = model.predict([statement,question2])"
   ]
  },
  {
   "cell_type": "code",
   "execution_count": 113,
   "metadata": {},
   "outputs": [
    {
     "data": {
      "text/plain": [
       "21"
      ]
     },
     "execution_count": 113,
     "metadata": {},
     "output_type": "execute_result"
    }
   ],
   "source": [
    "# Let's check the prediction on q1\n",
    "predict_q1.argmax()# 21 is the value for 'yes' and 22 is the value for 'no'"
   ]
  },
  {
   "cell_type": "code",
   "execution_count": 114,
   "metadata": {},
   "outputs": [
    {
     "data": {
      "text/plain": [
       "21"
      ]
     },
     "execution_count": 114,
     "metadata": {},
     "output_type": "execute_result"
    }
   ],
   "source": [
    "# Let's check the prediction on q2\n",
    "predict_q2.argmax()"
   ]
  },
  {
   "cell_type": "code",
   "execution_count": 115,
   "metadata": {},
   "outputs": [],
   "source": [
    "#2:\n",
    "statement = 'Daniel left the office . John dropped the football in the garden .'\n",
    "q = 'Is the football in the office ?'\n",
    "ans = 'no'\n",
    "\n",
    "# proper format\n",
    "statement = statement.split()\n",
    "q = q.split()\n",
    "\n",
    "data = [(statement,q,ans)]\n",
    "\n",
    "statement,q,ans = vectorize(data)\n",
    "\n",
    "# Prediction\n",
    "predict = model.predict([statement,q])\n"
   ]
  },
  {
   "cell_type": "code",
   "execution_count": 117,
   "metadata": {},
   "outputs": [
    {
     "data": {
      "text/plain": [
       "22"
      ]
     },
     "execution_count": 117,
     "metadata": {},
     "output_type": "execute_result"
    }
   ],
   "source": [
    "# checking the output\n",
    "predict.argmax() # 22 if 'no',21 if 'yes'"
   ]
  },
  {
   "cell_type": "code",
   "execution_count": null,
   "metadata": {},
   "outputs": [],
   "source": []
  }
 ],
 "metadata": {
  "kernelspec": {
   "display_name": "Python 3",
   "language": "python",
   "name": "python3"
  },
  "language_info": {
   "codemirror_mode": {
    "name": "ipython",
    "version": 3
   },
   "file_extension": ".py",
   "mimetype": "text/x-python",
   "name": "python",
   "nbconvert_exporter": "python",
   "pygments_lexer": "ipython3",
   "version": "3.8.5"
  }
 },
 "nbformat": 4,
 "nbformat_minor": 4
}
